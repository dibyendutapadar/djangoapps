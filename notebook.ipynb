{
 "cells": [
  {
   "cell_type": "code",
   "execution_count": 290,
   "metadata": {},
   "outputs": [],
   "source": [
    "import pandas as pd\n"
   ]
  },
  {
   "cell_type": "code",
   "execution_count": 291,
   "metadata": {},
   "outputs": [],
   "source": [
    "df = pd.read_csv('media/csvs/DemandForecast copy.csv')\n"
   ]
  },
  {
   "cell_type": "code",
   "execution_count": 292,
   "metadata": {},
   "outputs": [
    {
     "data": {
      "text/html": [
       "<div>\n",
       "<style scoped>\n",
       "    .dataframe tbody tr th:only-of-type {\n",
       "        vertical-align: middle;\n",
       "    }\n",
       "\n",
       "    .dataframe tbody tr th {\n",
       "        vertical-align: top;\n",
       "    }\n",
       "\n",
       "    .dataframe thead th {\n",
       "        text-align: right;\n",
       "    }\n",
       "</style>\n",
       "<table border=\"1\" class=\"dataframe\">\n",
       "  <thead>\n",
       "    <tr style=\"text-align: right;\">\n",
       "      <th></th>\n",
       "      <th>Date</th>\n",
       "      <th>Demand</th>\n",
       "    </tr>\n",
       "  </thead>\n",
       "  <tbody>\n",
       "    <tr>\n",
       "      <th>0</th>\n",
       "      <td>17/01/11</td>\n",
       "      <td>233.0</td>\n",
       "    </tr>\n",
       "    <tr>\n",
       "      <th>1</th>\n",
       "      <td>24/01/11</td>\n",
       "      <td>204.0</td>\n",
       "    </tr>\n",
       "    <tr>\n",
       "      <th>2</th>\n",
       "      <td>31/01/11</td>\n",
       "      <td>227.0</td>\n",
       "    </tr>\n",
       "    <tr>\n",
       "      <th>3</th>\n",
       "      <td>07/02/11</td>\n",
       "      <td>279.0</td>\n",
       "    </tr>\n",
       "    <tr>\n",
       "      <th>4</th>\n",
       "      <td>14/02/11</td>\n",
       "      <td>210.0</td>\n",
       "    </tr>\n",
       "  </tbody>\n",
       "</table>\n",
       "</div>"
      ],
      "text/plain": [
       "       Date  Demand\n",
       "0  17/01/11   233.0\n",
       "1  24/01/11   204.0\n",
       "2  31/01/11   227.0\n",
       "3  07/02/11   279.0\n",
       "4  14/02/11   210.0"
      ]
     },
     "execution_count": 292,
     "metadata": {},
     "output_type": "execute_result"
    }
   ],
   "source": [
    "df.head()"
   ]
  },
  {
   "cell_type": "code",
   "execution_count": 293,
   "metadata": {},
   "outputs": [],
   "source": [
    "date_column = \"Date\"\n",
    "demand_column = \"Demand\"\n",
    "forecast_days = 30\n",
    "train_test_split = 80\n",
    "date_format= '%d/%m/%y'\n"
   ]
  },
  {
   "cell_type": "code",
   "execution_count": 294,
   "metadata": {},
   "outputs": [
    {
     "data": {
      "text/html": [
       "<div>\n",
       "<style scoped>\n",
       "    .dataframe tbody tr th:only-of-type {\n",
       "        vertical-align: middle;\n",
       "    }\n",
       "\n",
       "    .dataframe tbody tr th {\n",
       "        vertical-align: top;\n",
       "    }\n",
       "\n",
       "    .dataframe thead th {\n",
       "        text-align: right;\n",
       "    }\n",
       "</style>\n",
       "<table border=\"1\" class=\"dataframe\">\n",
       "  <thead>\n",
       "    <tr style=\"text-align: right;\">\n",
       "      <th></th>\n",
       "      <th>Date</th>\n",
       "      <th>Demand</th>\n",
       "    </tr>\n",
       "  </thead>\n",
       "  <tbody>\n",
       "    <tr>\n",
       "      <th>0</th>\n",
       "      <td>2011-01-17</td>\n",
       "      <td>233.0</td>\n",
       "    </tr>\n",
       "    <tr>\n",
       "      <th>1</th>\n",
       "      <td>2011-01-24</td>\n",
       "      <td>204.0</td>\n",
       "    </tr>\n",
       "    <tr>\n",
       "      <th>2</th>\n",
       "      <td>2011-01-31</td>\n",
       "      <td>227.0</td>\n",
       "    </tr>\n",
       "    <tr>\n",
       "      <th>3</th>\n",
       "      <td>2011-02-07</td>\n",
       "      <td>279.0</td>\n",
       "    </tr>\n",
       "    <tr>\n",
       "      <th>4</th>\n",
       "      <td>2011-02-14</td>\n",
       "      <td>210.0</td>\n",
       "    </tr>\n",
       "  </tbody>\n",
       "</table>\n",
       "</div>"
      ],
      "text/plain": [
       "        Date  Demand\n",
       "0 2011-01-17   233.0\n",
       "1 2011-01-24   204.0\n",
       "2 2011-01-31   227.0\n",
       "3 2011-02-07   279.0\n",
       "4 2011-02-14   210.0"
      ]
     },
     "execution_count": 294,
     "metadata": {},
     "output_type": "execute_result"
    }
   ],
   "source": [
    "df[date_column] = pd.to_datetime(df[date_column], format=date_format)\n",
    "df.head()"
   ]
  },
  {
   "cell_type": "code",
   "execution_count": 295,
   "metadata": {},
   "outputs": [],
   "source": [
    "df = df.set_index(date_column)"
   ]
  },
  {
   "cell_type": "code",
   "execution_count": 296,
   "metadata": {},
   "outputs": [
    {
     "data": {
      "text/html": [
       "<div>\n",
       "<style scoped>\n",
       "    .dataframe tbody tr th:only-of-type {\n",
       "        vertical-align: middle;\n",
       "    }\n",
       "\n",
       "    .dataframe tbody tr th {\n",
       "        vertical-align: top;\n",
       "    }\n",
       "\n",
       "    .dataframe thead th {\n",
       "        text-align: right;\n",
       "    }\n",
       "</style>\n",
       "<table border=\"1\" class=\"dataframe\">\n",
       "  <thead>\n",
       "    <tr style=\"text-align: right;\">\n",
       "      <th></th>\n",
       "      <th>Demand</th>\n",
       "    </tr>\n",
       "    <tr>\n",
       "      <th>Date</th>\n",
       "      <th></th>\n",
       "    </tr>\n",
       "  </thead>\n",
       "  <tbody>\n",
       "    <tr>\n",
       "      <th>2011-01-17</th>\n",
       "      <td>233.0</td>\n",
       "    </tr>\n",
       "    <tr>\n",
       "      <th>2011-01-24</th>\n",
       "      <td>204.0</td>\n",
       "    </tr>\n",
       "    <tr>\n",
       "      <th>2011-01-31</th>\n",
       "      <td>227.0</td>\n",
       "    </tr>\n",
       "    <tr>\n",
       "      <th>2011-02-07</th>\n",
       "      <td>279.0</td>\n",
       "    </tr>\n",
       "    <tr>\n",
       "      <th>2011-02-14</th>\n",
       "      <td>210.0</td>\n",
       "    </tr>\n",
       "  </tbody>\n",
       "</table>\n",
       "</div>"
      ],
      "text/plain": [
       "            Demand\n",
       "Date              \n",
       "2011-01-17   233.0\n",
       "2011-01-24   204.0\n",
       "2011-01-31   227.0\n",
       "2011-02-07   279.0\n",
       "2011-02-14   210.0"
      ]
     },
     "execution_count": 296,
     "metadata": {},
     "output_type": "execute_result"
    }
   ],
   "source": [
    "df.head()"
   ]
  },
  {
   "cell_type": "code",
   "execution_count": 299,
   "metadata": {},
   "outputs": [
    {
     "ename": "ValueError",
     "evalue": "cannot reindex on an axis with duplicate labels",
     "output_type": "error",
     "traceback": [
      "\u001b[0;31m---------------------------------------------------------------------------\u001b[0m",
      "\u001b[0;31mValueError\u001b[0m                                Traceback (most recent call last)",
      "Cell \u001b[0;32mIn[299], line 1\u001b[0m\n\u001b[0;32m----> 1\u001b[0m df \u001b[38;5;241m=\u001b[39m \u001b[43mdf\u001b[49m\u001b[38;5;241;43m.\u001b[39;49m\u001b[43masfreq\u001b[49m\u001b[43m(\u001b[49m\u001b[38;5;124;43m'\u001b[39;49m\u001b[38;5;124;43mW-sun\u001b[39;49m\u001b[38;5;124;43m'\u001b[39;49m\u001b[43m)\u001b[49m\n",
      "File \u001b[0;32m~/Documents/Django/DjangoApps/venv311/lib/python3.11/site-packages/pandas/core/generic.py:9231\u001b[0m, in \u001b[0;36mNDFrame.asfreq\u001b[0;34m(self, freq, method, how, normalize, fill_value)\u001b[0m\n\u001b[1;32m   9124\u001b[0m \u001b[38;5;250m\u001b[39m\u001b[38;5;124;03m\"\"\"\u001b[39;00m\n\u001b[1;32m   9125\u001b[0m \u001b[38;5;124;03mConvert time series to specified frequency.\u001b[39;00m\n\u001b[1;32m   9126\u001b[0m \n\u001b[0;32m   (...)\u001b[0m\n\u001b[1;32m   9227\u001b[0m \u001b[38;5;124;03m2000-01-01 00:03:00    3.0\u001b[39;00m\n\u001b[1;32m   9228\u001b[0m \u001b[38;5;124;03m\"\"\"\u001b[39;00m\n\u001b[1;32m   9229\u001b[0m \u001b[38;5;28;01mfrom\u001b[39;00m \u001b[38;5;21;01mpandas\u001b[39;00m\u001b[38;5;21;01m.\u001b[39;00m\u001b[38;5;21;01mcore\u001b[39;00m\u001b[38;5;21;01m.\u001b[39;00m\u001b[38;5;21;01mresample\u001b[39;00m \u001b[38;5;28;01mimport\u001b[39;00m asfreq\n\u001b[0;32m-> 9231\u001b[0m \u001b[38;5;28;01mreturn\u001b[39;00m \u001b[43masfreq\u001b[49m\u001b[43m(\u001b[49m\n\u001b[1;32m   9232\u001b[0m \u001b[43m    \u001b[49m\u001b[38;5;28;43mself\u001b[39;49m\u001b[43m,\u001b[49m\n\u001b[1;32m   9233\u001b[0m \u001b[43m    \u001b[49m\u001b[43mfreq\u001b[49m\u001b[43m,\u001b[49m\n\u001b[1;32m   9234\u001b[0m \u001b[43m    \u001b[49m\u001b[43mmethod\u001b[49m\u001b[38;5;241;43m=\u001b[39;49m\u001b[43mmethod\u001b[49m\u001b[43m,\u001b[49m\n\u001b[1;32m   9235\u001b[0m \u001b[43m    \u001b[49m\u001b[43mhow\u001b[49m\u001b[38;5;241;43m=\u001b[39;49m\u001b[43mhow\u001b[49m\u001b[43m,\u001b[49m\n\u001b[1;32m   9236\u001b[0m \u001b[43m    \u001b[49m\u001b[43mnormalize\u001b[49m\u001b[38;5;241;43m=\u001b[39;49m\u001b[43mnormalize\u001b[49m\u001b[43m,\u001b[49m\n\u001b[1;32m   9237\u001b[0m \u001b[43m    \u001b[49m\u001b[43mfill_value\u001b[49m\u001b[38;5;241;43m=\u001b[39;49m\u001b[43mfill_value\u001b[49m\u001b[43m,\u001b[49m\n\u001b[1;32m   9238\u001b[0m \u001b[43m\u001b[49m\u001b[43m)\u001b[49m\n",
      "File \u001b[0;32m~/Documents/Django/DjangoApps/venv311/lib/python3.11/site-packages/pandas/core/resample.py:2837\u001b[0m, in \u001b[0;36masfreq\u001b[0;34m(obj, freq, method, how, normalize, fill_value)\u001b[0m\n\u001b[1;32m   2835\u001b[0m dti \u001b[38;5;241m=\u001b[39m date_range(obj\u001b[38;5;241m.\u001b[39mindex\u001b[38;5;241m.\u001b[39mmin(), obj\u001b[38;5;241m.\u001b[39mindex\u001b[38;5;241m.\u001b[39mmax(), freq\u001b[38;5;241m=\u001b[39mfreq, unit\u001b[38;5;241m=\u001b[39munit)\n\u001b[1;32m   2836\u001b[0m dti\u001b[38;5;241m.\u001b[39mname \u001b[38;5;241m=\u001b[39m obj\u001b[38;5;241m.\u001b[39mindex\u001b[38;5;241m.\u001b[39mname\n\u001b[0;32m-> 2837\u001b[0m new_obj \u001b[38;5;241m=\u001b[39m \u001b[43mobj\u001b[49m\u001b[38;5;241;43m.\u001b[39;49m\u001b[43mreindex\u001b[49m\u001b[43m(\u001b[49m\u001b[43mdti\u001b[49m\u001b[43m,\u001b[49m\u001b[43m \u001b[49m\u001b[43mmethod\u001b[49m\u001b[38;5;241;43m=\u001b[39;49m\u001b[43mmethod\u001b[49m\u001b[43m,\u001b[49m\u001b[43m \u001b[49m\u001b[43mfill_value\u001b[49m\u001b[38;5;241;43m=\u001b[39;49m\u001b[43mfill_value\u001b[49m\u001b[43m)\u001b[49m\n\u001b[1;32m   2838\u001b[0m \u001b[38;5;28;01mif\u001b[39;00m normalize:\n\u001b[1;32m   2839\u001b[0m     new_obj\u001b[38;5;241m.\u001b[39mindex \u001b[38;5;241m=\u001b[39m new_obj\u001b[38;5;241m.\u001b[39mindex\u001b[38;5;241m.\u001b[39mnormalize()\n",
      "File \u001b[0;32m~/Documents/Django/DjangoApps/venv311/lib/python3.11/site-packages/pandas/core/frame.py:5378\u001b[0m, in \u001b[0;36mDataFrame.reindex\u001b[0;34m(self, labels, index, columns, axis, method, copy, level, fill_value, limit, tolerance)\u001b[0m\n\u001b[1;32m   5359\u001b[0m \u001b[38;5;129m@doc\u001b[39m(\n\u001b[1;32m   5360\u001b[0m     NDFrame\u001b[38;5;241m.\u001b[39mreindex,\n\u001b[1;32m   5361\u001b[0m     klass\u001b[38;5;241m=\u001b[39m_shared_doc_kwargs[\u001b[38;5;124m\"\u001b[39m\u001b[38;5;124mklass\u001b[39m\u001b[38;5;124m\"\u001b[39m],\n\u001b[0;32m   (...)\u001b[0m\n\u001b[1;32m   5376\u001b[0m     tolerance\u001b[38;5;241m=\u001b[39m\u001b[38;5;28;01mNone\u001b[39;00m,\n\u001b[1;32m   5377\u001b[0m ) \u001b[38;5;241m-\u001b[39m\u001b[38;5;241m>\u001b[39m DataFrame:\n\u001b[0;32m-> 5378\u001b[0m     \u001b[38;5;28;01mreturn\u001b[39;00m \u001b[38;5;28;43msuper\u001b[39;49m\u001b[43m(\u001b[49m\u001b[43m)\u001b[49m\u001b[38;5;241;43m.\u001b[39;49m\u001b[43mreindex\u001b[49m\u001b[43m(\u001b[49m\n\u001b[1;32m   5379\u001b[0m \u001b[43m        \u001b[49m\u001b[43mlabels\u001b[49m\u001b[38;5;241;43m=\u001b[39;49m\u001b[43mlabels\u001b[49m\u001b[43m,\u001b[49m\n\u001b[1;32m   5380\u001b[0m \u001b[43m        \u001b[49m\u001b[43mindex\u001b[49m\u001b[38;5;241;43m=\u001b[39;49m\u001b[43mindex\u001b[49m\u001b[43m,\u001b[49m\n\u001b[1;32m   5381\u001b[0m \u001b[43m        \u001b[49m\u001b[43mcolumns\u001b[49m\u001b[38;5;241;43m=\u001b[39;49m\u001b[43mcolumns\u001b[49m\u001b[43m,\u001b[49m\n\u001b[1;32m   5382\u001b[0m \u001b[43m        \u001b[49m\u001b[43maxis\u001b[49m\u001b[38;5;241;43m=\u001b[39;49m\u001b[43maxis\u001b[49m\u001b[43m,\u001b[49m\n\u001b[1;32m   5383\u001b[0m \u001b[43m        \u001b[49m\u001b[43mmethod\u001b[49m\u001b[38;5;241;43m=\u001b[39;49m\u001b[43mmethod\u001b[49m\u001b[43m,\u001b[49m\n\u001b[1;32m   5384\u001b[0m \u001b[43m        \u001b[49m\u001b[43mcopy\u001b[49m\u001b[38;5;241;43m=\u001b[39;49m\u001b[43mcopy\u001b[49m\u001b[43m,\u001b[49m\n\u001b[1;32m   5385\u001b[0m \u001b[43m        \u001b[49m\u001b[43mlevel\u001b[49m\u001b[38;5;241;43m=\u001b[39;49m\u001b[43mlevel\u001b[49m\u001b[43m,\u001b[49m\n\u001b[1;32m   5386\u001b[0m \u001b[43m        \u001b[49m\u001b[43mfill_value\u001b[49m\u001b[38;5;241;43m=\u001b[39;49m\u001b[43mfill_value\u001b[49m\u001b[43m,\u001b[49m\n\u001b[1;32m   5387\u001b[0m \u001b[43m        \u001b[49m\u001b[43mlimit\u001b[49m\u001b[38;5;241;43m=\u001b[39;49m\u001b[43mlimit\u001b[49m\u001b[43m,\u001b[49m\n\u001b[1;32m   5388\u001b[0m \u001b[43m        \u001b[49m\u001b[43mtolerance\u001b[49m\u001b[38;5;241;43m=\u001b[39;49m\u001b[43mtolerance\u001b[49m\u001b[43m,\u001b[49m\n\u001b[1;32m   5389\u001b[0m \u001b[43m    \u001b[49m\u001b[43m)\u001b[49m\n",
      "File \u001b[0;32m~/Documents/Django/DjangoApps/venv311/lib/python3.11/site-packages/pandas/core/generic.py:5610\u001b[0m, in \u001b[0;36mNDFrame.reindex\u001b[0;34m(self, labels, index, columns, axis, method, copy, level, fill_value, limit, tolerance)\u001b[0m\n\u001b[1;32m   5607\u001b[0m     \u001b[38;5;28;01mreturn\u001b[39;00m \u001b[38;5;28mself\u001b[39m\u001b[38;5;241m.\u001b[39m_reindex_multi(axes, copy, fill_value)\n\u001b[1;32m   5609\u001b[0m \u001b[38;5;66;03m# perform the reindex on the axes\u001b[39;00m\n\u001b[0;32m-> 5610\u001b[0m \u001b[38;5;28;01mreturn\u001b[39;00m \u001b[38;5;28;43mself\u001b[39;49m\u001b[38;5;241;43m.\u001b[39;49m\u001b[43m_reindex_axes\u001b[49m\u001b[43m(\u001b[49m\n\u001b[1;32m   5611\u001b[0m \u001b[43m    \u001b[49m\u001b[43maxes\u001b[49m\u001b[43m,\u001b[49m\u001b[43m \u001b[49m\u001b[43mlevel\u001b[49m\u001b[43m,\u001b[49m\u001b[43m \u001b[49m\u001b[43mlimit\u001b[49m\u001b[43m,\u001b[49m\u001b[43m \u001b[49m\u001b[43mtolerance\u001b[49m\u001b[43m,\u001b[49m\u001b[43m \u001b[49m\u001b[43mmethod\u001b[49m\u001b[43m,\u001b[49m\u001b[43m \u001b[49m\u001b[43mfill_value\u001b[49m\u001b[43m,\u001b[49m\u001b[43m \u001b[49m\u001b[43mcopy\u001b[49m\n\u001b[1;32m   5612\u001b[0m \u001b[43m\u001b[49m\u001b[43m)\u001b[49m\u001b[38;5;241m.\u001b[39m__finalize__(\u001b[38;5;28mself\u001b[39m, method\u001b[38;5;241m=\u001b[39m\u001b[38;5;124m\"\u001b[39m\u001b[38;5;124mreindex\u001b[39m\u001b[38;5;124m\"\u001b[39m)\n",
      "File \u001b[0;32m~/Documents/Django/DjangoApps/venv311/lib/python3.11/site-packages/pandas/core/generic.py:5633\u001b[0m, in \u001b[0;36mNDFrame._reindex_axes\u001b[0;34m(self, axes, level, limit, tolerance, method, fill_value, copy)\u001b[0m\n\u001b[1;32m   5630\u001b[0m     \u001b[38;5;28;01mcontinue\u001b[39;00m\n\u001b[1;32m   5632\u001b[0m ax \u001b[38;5;241m=\u001b[39m \u001b[38;5;28mself\u001b[39m\u001b[38;5;241m.\u001b[39m_get_axis(a)\n\u001b[0;32m-> 5633\u001b[0m new_index, indexer \u001b[38;5;241m=\u001b[39m \u001b[43max\u001b[49m\u001b[38;5;241;43m.\u001b[39;49m\u001b[43mreindex\u001b[49m\u001b[43m(\u001b[49m\n\u001b[1;32m   5634\u001b[0m \u001b[43m    \u001b[49m\u001b[43mlabels\u001b[49m\u001b[43m,\u001b[49m\u001b[43m \u001b[49m\u001b[43mlevel\u001b[49m\u001b[38;5;241;43m=\u001b[39;49m\u001b[43mlevel\u001b[49m\u001b[43m,\u001b[49m\u001b[43m \u001b[49m\u001b[43mlimit\u001b[49m\u001b[38;5;241;43m=\u001b[39;49m\u001b[43mlimit\u001b[49m\u001b[43m,\u001b[49m\u001b[43m \u001b[49m\u001b[43mtolerance\u001b[49m\u001b[38;5;241;43m=\u001b[39;49m\u001b[43mtolerance\u001b[49m\u001b[43m,\u001b[49m\u001b[43m \u001b[49m\u001b[43mmethod\u001b[49m\u001b[38;5;241;43m=\u001b[39;49m\u001b[43mmethod\u001b[49m\n\u001b[1;32m   5635\u001b[0m \u001b[43m\u001b[49m\u001b[43m)\u001b[49m\n\u001b[1;32m   5637\u001b[0m axis \u001b[38;5;241m=\u001b[39m \u001b[38;5;28mself\u001b[39m\u001b[38;5;241m.\u001b[39m_get_axis_number(a)\n\u001b[1;32m   5638\u001b[0m obj \u001b[38;5;241m=\u001b[39m obj\u001b[38;5;241m.\u001b[39m_reindex_with_indexers(\n\u001b[1;32m   5639\u001b[0m     {axis: [new_index, indexer]},\n\u001b[1;32m   5640\u001b[0m     fill_value\u001b[38;5;241m=\u001b[39mfill_value,\n\u001b[1;32m   5641\u001b[0m     copy\u001b[38;5;241m=\u001b[39mcopy,\n\u001b[1;32m   5642\u001b[0m     allow_dups\u001b[38;5;241m=\u001b[39m\u001b[38;5;28;01mFalse\u001b[39;00m,\n\u001b[1;32m   5643\u001b[0m )\n",
      "File \u001b[0;32m~/Documents/Django/DjangoApps/venv311/lib/python3.11/site-packages/pandas/core/indexes/base.py:4429\u001b[0m, in \u001b[0;36mIndex.reindex\u001b[0;34m(self, target, method, level, limit, tolerance)\u001b[0m\n\u001b[1;32m   4426\u001b[0m     \u001b[38;5;28;01mraise\u001b[39;00m \u001b[38;5;167;01mValueError\u001b[39;00m(\u001b[38;5;124m\"\u001b[39m\u001b[38;5;124mcannot handle a non-unique multi-index!\u001b[39m\u001b[38;5;124m\"\u001b[39m)\n\u001b[1;32m   4427\u001b[0m \u001b[38;5;28;01melif\u001b[39;00m \u001b[38;5;129;01mnot\u001b[39;00m \u001b[38;5;28mself\u001b[39m\u001b[38;5;241m.\u001b[39mis_unique:\n\u001b[1;32m   4428\u001b[0m     \u001b[38;5;66;03m# GH#42568\u001b[39;00m\n\u001b[0;32m-> 4429\u001b[0m     \u001b[38;5;28;01mraise\u001b[39;00m \u001b[38;5;167;01mValueError\u001b[39;00m(\u001b[38;5;124m\"\u001b[39m\u001b[38;5;124mcannot reindex on an axis with duplicate labels\u001b[39m\u001b[38;5;124m\"\u001b[39m)\n\u001b[1;32m   4430\u001b[0m \u001b[38;5;28;01melse\u001b[39;00m:\n\u001b[1;32m   4431\u001b[0m     indexer, _ \u001b[38;5;241m=\u001b[39m \u001b[38;5;28mself\u001b[39m\u001b[38;5;241m.\u001b[39mget_indexer_non_unique(target)\n",
      "\u001b[0;31mValueError\u001b[0m: cannot reindex on an axis with duplicate labels"
     ]
    }
   ],
   "source": [
    "df = df.asfreq('W-SUN')"
   ]
  },
  {
   "cell_type": "code",
   "execution_count": 265,
   "metadata": {},
   "outputs": [],
   "source": [
    "df[demand_column] = pd.to_numeric(df[demand_column], errors='coerce').fillna(0)"
   ]
  },
  {
   "cell_type": "code",
   "execution_count": null,
   "metadata": {},
   "outputs": [],
   "source": []
  },
  {
   "cell_type": "code",
   "execution_count": 266,
   "metadata": {},
   "outputs": [
    {
     "data": {
      "text/html": [
       "<div>\n",
       "<style scoped>\n",
       "    .dataframe tbody tr th:only-of-type {\n",
       "        vertical-align: middle;\n",
       "    }\n",
       "\n",
       "    .dataframe tbody tr th {\n",
       "        vertical-align: top;\n",
       "    }\n",
       "\n",
       "    .dataframe thead th {\n",
       "        text-align: right;\n",
       "    }\n",
       "</style>\n",
       "<table border=\"1\" class=\"dataframe\">\n",
       "  <thead>\n",
       "    <tr style=\"text-align: right;\">\n",
       "      <th></th>\n",
       "      <th>Demand</th>\n",
       "    </tr>\n",
       "    <tr>\n",
       "      <th>Date</th>\n",
       "      <th></th>\n",
       "    </tr>\n",
       "  </thead>\n",
       "  <tbody>\n",
       "    <tr>\n",
       "      <th>2023-01-01</th>\n",
       "      <td>20</td>\n",
       "    </tr>\n",
       "    <tr>\n",
       "      <th>2023-01-02</th>\n",
       "      <td>28</td>\n",
       "    </tr>\n",
       "    <tr>\n",
       "      <th>2023-01-03</th>\n",
       "      <td>19</td>\n",
       "    </tr>\n",
       "    <tr>\n",
       "      <th>2023-01-04</th>\n",
       "      <td>44</td>\n",
       "    </tr>\n",
       "    <tr>\n",
       "      <th>2023-01-05</th>\n",
       "      <td>52</td>\n",
       "    </tr>\n",
       "  </tbody>\n",
       "</table>\n",
       "</div>"
      ],
      "text/plain": [
       "            Demand\n",
       "Date              \n",
       "2023-01-01      20\n",
       "2023-01-02      28\n",
       "2023-01-03      19\n",
       "2023-01-04      44\n",
       "2023-01-05      52"
      ]
     },
     "execution_count": 266,
     "metadata": {},
     "output_type": "execute_result"
    }
   ],
   "source": [
    "df.head()"
   ]
  },
  {
   "cell_type": "code",
   "execution_count": 267,
   "metadata": {},
   "outputs": [],
   "source": [
    "split_idx = int(len(df) * (train_test_split/100))"
   ]
  },
  {
   "cell_type": "code",
   "execution_count": 268,
   "metadata": {},
   "outputs": [
    {
     "name": "stdout",
     "output_type": "stream",
     "text": [
      "232\n"
     ]
    }
   ],
   "source": [
    "print(split_idx)"
   ]
  },
  {
   "cell_type": "code",
   "execution_count": 254,
   "metadata": {},
   "outputs": [
    {
     "name": "stdout",
     "output_type": "stream",
     "text": [
      "290    40.699329\n",
      "291    46.716354\n",
      "292    67.594307\n",
      "293    53.188252\n",
      "294    53.736635\n",
      "295    36.350579\n",
      "296    33.713060\n",
      "297    43.773544\n",
      "298    45.331409\n",
      "299    41.671097\n",
      "300    37.916017\n",
      "301    50.645855\n",
      "302    40.699329\n",
      "303    46.716354\n",
      "304    67.594307\n",
      "305    53.188252\n",
      "306    53.736635\n",
      "307    36.350579\n",
      "308    33.713060\n",
      "309    43.773544\n",
      "310    45.331409\n",
      "311    41.671097\n",
      "312    37.916017\n",
      "313    50.645855\n",
      "314    40.699329\n",
      "315    46.716354\n",
      "316    67.594307\n",
      "317    53.188252\n",
      "318    53.736635\n",
      "319    36.350579\n",
      "dtype: float64\n"
     ]
    }
   ],
   "source": [
    "print(future_forecast)"
   ]
  },
  {
   "cell_type": "code",
   "execution_count": 258,
   "metadata": {},
   "outputs": [
    {
     "name": "stdout",
     "output_type": "stream",
     "text": [
      "                               Demand\n",
      "1970-01-02 00:00:00.000000289     NaN\n",
      "1970-01-03 00:00:00.000000289     NaN\n",
      "1970-01-04 00:00:00.000000289     NaN\n",
      "1970-01-05 00:00:00.000000289     NaN\n",
      "1970-01-06 00:00:00.000000289     NaN\n",
      "1970-01-07 00:00:00.000000289     NaN\n",
      "1970-01-08 00:00:00.000000289     NaN\n",
      "1970-01-09 00:00:00.000000289     NaN\n",
      "1970-01-10 00:00:00.000000289     NaN\n",
      "1970-01-11 00:00:00.000000289     NaN\n",
      "1970-01-12 00:00:00.000000289     NaN\n",
      "1970-01-13 00:00:00.000000289     NaN\n",
      "1970-01-14 00:00:00.000000289     NaN\n",
      "1970-01-15 00:00:00.000000289     NaN\n",
      "1970-01-16 00:00:00.000000289     NaN\n",
      "1970-01-17 00:00:00.000000289     NaN\n",
      "1970-01-18 00:00:00.000000289     NaN\n",
      "1970-01-19 00:00:00.000000289     NaN\n",
      "1970-01-20 00:00:00.000000289     NaN\n",
      "1970-01-21 00:00:00.000000289     NaN\n",
      "1970-01-22 00:00:00.000000289     NaN\n",
      "1970-01-23 00:00:00.000000289     NaN\n",
      "1970-01-24 00:00:00.000000289     NaN\n",
      "1970-01-25 00:00:00.000000289     NaN\n",
      "1970-01-26 00:00:00.000000289     NaN\n",
      "1970-01-27 00:00:00.000000289     NaN\n",
      "1970-01-28 00:00:00.000000289     NaN\n",
      "1970-01-29 00:00:00.000000289     NaN\n",
      "1970-01-30 00:00:00.000000289     NaN\n",
      "1970-01-31 00:00:00.000000289     NaN\n"
     ]
    }
   ],
   "source": [
    "forecast_dates = pd.date_range(start=df.index[-1], periods=31, inclusive='right')\n",
    "forecast_df = pd.DataFrame({'Demand': future_forecast}, index=forecast_dates)\n",
    "print(forecast_df)\n",
    "        \n",
    "# error = mean_absolute_error(df['Demand'], historical_forecast)\n",
    "# mape = mean_squared_error(df['Demand'], historical_forecast)\n",
    "# mae = mean_absolute_error(df['Demand'], historical_forecast)\n",
    "# rmse = mean_squared_error(df['Demand'], historical_forecast)\n",
    "        \n",
    "# kpi_data[method] = {'error': error, 'mape': mape, 'mae': mae, 'rmse': rmse}\n",
    "\n",
    "df['type'] = 'Actual'\n",
    "historical_forecast_df = df.copy()\n",
    "historical_forecast_df['Demand'] = historical_forecast\n",
    "historical_forecast_df['type'] = 'Historical Forecast'\n",
    "forecast_df['type'] = 'Future Forecast'\n",
    "\n",
    "combined_df = pd.concat([df, historical_forecast_df, forecast_df])\n",
    "combined_df.reset_index(inplace=True)\n"
   ]
  },
  {
   "cell_type": "code",
   "execution_count": 257,
   "metadata": {},
   "outputs": [
    {
     "name": "stdout",
     "output_type": "stream",
     "text": [
      "          Date  Demand    type\n",
      "0   2023-01-01      20  Actual\n",
      "1   2023-01-02      28  Actual\n",
      "2   2023-01-03      19  Actual\n",
      "3   2023-01-04      44  Actual\n",
      "4   2023-01-05      52  Actual\n",
      "..         ...     ...     ...\n",
      "285 2023-10-13      43  Actual\n",
      "286 2023-10-14     132  Actual\n",
      "287 2023-10-15     119  Actual\n",
      "288 2023-10-16      22  Actual\n",
      "289 2023-10-17      25  Actual\n",
      "\n",
      "[290 rows x 3 columns]\n"
     ]
    }
   ],
   "source": [
    "print(df)"
   ]
  },
  {
   "cell_type": "code",
   "execution_count": 231,
   "metadata": {},
   "outputs": [
    {
     "name": "stdout",
     "output_type": "stream",
     "text": [
      "Mean Absolute Error: 23.067359921821534\n",
      "Mean Squared Error: 1630.366509624168\n",
      "       index  Demand    type\n",
      "0 2023-01-01    20.0  Actual\n",
      "1 2023-01-02    28.0  Actual\n",
      "2 2023-01-03    19.0  Actual\n",
      "3 2023-01-04    44.0  Actual\n",
      "4 2023-01-05    52.0  Actual\n"
     ]
    },
    {
     "name": "stderr",
     "output_type": "stream",
     "text": [
      "/Users/dibs/Documents/Django/DjangoApps/venv311/lib/python3.11/site-packages/statsmodels/tsa/base/tsa_model.py:473: ValueWarning:\n",
      "\n",
      "No frequency information was provided, so inferred frequency D will be used.\n",
      "\n"
     ]
    },
    {
     "ename": "ValueError",
     "evalue": "Mime type rendering requires nbformat>=4.2.0 but it is not installed",
     "output_type": "error",
     "traceback": [
      "\u001b[0;31m---------------------------------------------------------------------------\u001b[0m",
      "\u001b[0;31mValueError\u001b[0m                                Traceback (most recent call last)",
      "Cell \u001b[0;32mIn[231], line 47\u001b[0m\n\u001b[1;32m     42\u001b[0m fig \u001b[38;5;241m=\u001b[39m px\u001b[38;5;241m.\u001b[39mline(combined_df[combined_df[\u001b[38;5;124m'\u001b[39m\u001b[38;5;124mtype\u001b[39m\u001b[38;5;124m'\u001b[39m] \u001b[38;5;241m==\u001b[39m \u001b[38;5;124m'\u001b[39m\u001b[38;5;124mActual\u001b[39m\u001b[38;5;124m'\u001b[39m], x\u001b[38;5;241m=\u001b[39m\u001b[38;5;124m'\u001b[39m\u001b[38;5;124mindex\u001b[39m\u001b[38;5;124m'\u001b[39m, y\u001b[38;5;241m=\u001b[39m\u001b[38;5;124m'\u001b[39m\u001b[38;5;124mDemand\u001b[39m\u001b[38;5;124m'\u001b[39m, color\u001b[38;5;241m=\u001b[39m\u001b[38;5;124m'\u001b[39m\u001b[38;5;124mtype\u001b[39m\u001b[38;5;124m'\u001b[39m, \n\u001b[1;32m     43\u001b[0m               title\u001b[38;5;241m=\u001b[39m\u001b[38;5;124m'\u001b[39m\u001b[38;5;124mDemand Forecasting using Triple Exponential Smoothing\u001b[39m\u001b[38;5;124m'\u001b[39m,\n\u001b[1;32m     44\u001b[0m               labels\u001b[38;5;241m=\u001b[39m{\u001b[38;5;124m'\u001b[39m\u001b[38;5;124mdemand\u001b[39m\u001b[38;5;124m'\u001b[39m: \u001b[38;5;124m'\u001b[39m\u001b[38;5;124mDemand\u001b[39m\u001b[38;5;124m'\u001b[39m, \u001b[38;5;124m'\u001b[39m\u001b[38;5;124mdate\u001b[39m\u001b[38;5;124m'\u001b[39m: \u001b[38;5;124m'\u001b[39m\u001b[38;5;124mDate\u001b[39m\u001b[38;5;124m'\u001b[39m})\n\u001b[1;32m     46\u001b[0m \u001b[38;5;66;03m# # Show plot\u001b[39;00m\n\u001b[0;32m---> 47\u001b[0m \u001b[43mfig\u001b[49m\u001b[38;5;241;43m.\u001b[39;49m\u001b[43mshow\u001b[49m\u001b[43m(\u001b[49m\u001b[43m)\u001b[49m\n",
      "File \u001b[0;32m~/Documents/Django/DjangoApps/venv311/lib/python3.11/site-packages/plotly/basedatatypes.py:3410\u001b[0m, in \u001b[0;36mBaseFigure.show\u001b[0;34m(self, *args, **kwargs)\u001b[0m\n\u001b[1;32m   3377\u001b[0m \u001b[38;5;250m\u001b[39m\u001b[38;5;124;03m\"\"\"\u001b[39;00m\n\u001b[1;32m   3378\u001b[0m \u001b[38;5;124;03mShow a figure using either the default renderer(s) or the renderer(s)\u001b[39;00m\n\u001b[1;32m   3379\u001b[0m \u001b[38;5;124;03mspecified by the renderer argument\u001b[39;00m\n\u001b[0;32m   (...)\u001b[0m\n\u001b[1;32m   3406\u001b[0m \u001b[38;5;124;03mNone\u001b[39;00m\n\u001b[1;32m   3407\u001b[0m \u001b[38;5;124;03m\"\"\"\u001b[39;00m\n\u001b[1;32m   3408\u001b[0m \u001b[38;5;28;01mimport\u001b[39;00m \u001b[38;5;21;01mplotly\u001b[39;00m\u001b[38;5;21;01m.\u001b[39;00m\u001b[38;5;21;01mio\u001b[39;00m \u001b[38;5;28;01mas\u001b[39;00m \u001b[38;5;21;01mpio\u001b[39;00m\n\u001b[0;32m-> 3410\u001b[0m \u001b[38;5;28;01mreturn\u001b[39;00m \u001b[43mpio\u001b[49m\u001b[38;5;241;43m.\u001b[39;49m\u001b[43mshow\u001b[49m\u001b[43m(\u001b[49m\u001b[38;5;28;43mself\u001b[39;49m\u001b[43m,\u001b[49m\u001b[43m \u001b[49m\u001b[38;5;241;43m*\u001b[39;49m\u001b[43margs\u001b[49m\u001b[43m,\u001b[49m\u001b[43m \u001b[49m\u001b[38;5;241;43m*\u001b[39;49m\u001b[38;5;241;43m*\u001b[39;49m\u001b[43mkwargs\u001b[49m\u001b[43m)\u001b[49m\n",
      "File \u001b[0;32m~/Documents/Django/DjangoApps/venv311/lib/python3.11/site-packages/plotly/io/_renderers.py:394\u001b[0m, in \u001b[0;36mshow\u001b[0;34m(fig, renderer, validate, **kwargs)\u001b[0m\n\u001b[1;32m    389\u001b[0m         \u001b[38;5;28;01mraise\u001b[39;00m \u001b[38;5;167;01mValueError\u001b[39;00m(\n\u001b[1;32m    390\u001b[0m             \u001b[38;5;124m\"\u001b[39m\u001b[38;5;124mMime type rendering requires ipython but it is not installed\u001b[39m\u001b[38;5;124m\"\u001b[39m\n\u001b[1;32m    391\u001b[0m         )\n\u001b[1;32m    393\u001b[0m     \u001b[38;5;28;01mif\u001b[39;00m \u001b[38;5;129;01mnot\u001b[39;00m nbformat \u001b[38;5;129;01mor\u001b[39;00m Version(nbformat\u001b[38;5;241m.\u001b[39m__version__) \u001b[38;5;241m<\u001b[39m Version(\u001b[38;5;124m\"\u001b[39m\u001b[38;5;124m4.2.0\u001b[39m\u001b[38;5;124m\"\u001b[39m):\n\u001b[0;32m--> 394\u001b[0m         \u001b[38;5;28;01mraise\u001b[39;00m \u001b[38;5;167;01mValueError\u001b[39;00m(\n\u001b[1;32m    395\u001b[0m             \u001b[38;5;124m\"\u001b[39m\u001b[38;5;124mMime type rendering requires nbformat>=4.2.0 but it is not installed\u001b[39m\u001b[38;5;124m\"\u001b[39m\n\u001b[1;32m    396\u001b[0m         )\n\u001b[1;32m    398\u001b[0m     ipython_display\u001b[38;5;241m.\u001b[39mdisplay(bundle, raw\u001b[38;5;241m=\u001b[39m\u001b[38;5;28;01mTrue\u001b[39;00m)\n\u001b[1;32m    400\u001b[0m \u001b[38;5;66;03m# external renderers\u001b[39;00m\n",
      "\u001b[0;31mValueError\u001b[0m: Mime type rendering requires nbformat>=4.2.0 but it is not installed"
     ]
    }
   ],
   "source": []
  },
  {
   "cell_type": "code",
   "execution_count": 68,
   "metadata": {},
   "outputs": [],
   "source": [
    "split_idx = int(len(df) * train_test_split/100)"
   ]
  },
  {
   "cell_type": "code",
   "execution_count": 69,
   "metadata": {},
   "outputs": [
    {
     "data": {
      "text/plain": [
       "232"
      ]
     },
     "execution_count": 69,
     "metadata": {},
     "output_type": "execute_result"
    }
   ],
   "source": [
    "split_idx"
   ]
  },
  {
   "cell_type": "code",
   "execution_count": 70,
   "metadata": {},
   "outputs": [],
   "source": [
    "train, test = df[:split_idx], df[split_idx:]"
   ]
  },
  {
   "cell_type": "code",
   "execution_count": 71,
   "metadata": {},
   "outputs": [],
   "source": [
    "kpi_data = {}\n",
    "forecast_methods = {}"
   ]
  },
  {
   "cell_type": "code",
   "execution_count": 54,
   "metadata": {},
   "outputs": [],
   "source": []
  },
  {
   "cell_type": "code",
   "execution_count": 72,
   "metadata": {},
   "outputs": [],
   "source": [
    "try:\n",
    "    forecast_methods['Moving Average'] = test[demand_column].rolling(window=forecast_days).mean().iloc[forecast_days:]\n",
    "except Exception as e:\n",
    "    forecast_methods['Moving Average'] = None"
   ]
  },
  {
   "cell_type": "code",
   "execution_count": 73,
   "metadata": {},
   "outputs": [],
   "source": [
    "from statsmodels.tsa.holtwinters import ExponentialSmoothing"
   ]
  },
  {
   "cell_type": "code",
   "execution_count": 74,
   "metadata": {},
   "outputs": [
    {
     "name": "stderr",
     "output_type": "stream",
     "text": [
      "/Users/dibs/Documents/Django/DjangoApps/venv311/lib/python3.11/site-packages/statsmodels/tsa/base/tsa_model.py:473: ValueWarning: No frequency information was provided, so inferred frequency D will be used.\n",
      "  self._init_dates(dates, freq)\n"
     ]
    }
   ],
   "source": [
    "# Exponential Smoothing\n",
    "\n",
    "model = ExponentialSmoothing(train, seasonal='add', seasonal_periods=12)\n",
    "fit = model.fit()\n",
    "forecast_methods['Exponential Smoothing'] = fit.forecast(forecast_days)\n"
   ]
  },
  {
   "cell_type": "code",
   "execution_count": 75,
   "metadata": {},
   "outputs": [
    {
     "name": "stderr",
     "output_type": "stream",
     "text": [
      "/Users/dibs/Documents/Django/DjangoApps/venv311/lib/python3.11/site-packages/statsmodels/tsa/base/tsa_model.py:473: ValueWarning: No frequency information was provided, so inferred frequency D will be used.\n",
      "  self._init_dates(dates, freq)\n"
     ]
    }
   ],
   "source": [
    " # Double Exponential Smoothing\n",
    "try:\n",
    "    model = ExponentialSmoothing(train, trend='add')\n",
    "    fit = model.fit()\n",
    "    forecast_methods['Double Exponential Smoothing'] = fit.forecast(forecast_days)\n",
    "except Exception as e:\n",
    "    forecast_methods['Double Exponential Smoothing'] = None"
   ]
  },
  {
   "cell_type": "code",
   "execution_count": 76,
   "metadata": {},
   "outputs": [
    {
     "data": {
      "text/plain": [
       "{'Moving Average': Date\n",
       " 2023-09-20    22.700000\n",
       " 2023-09-21    23.100000\n",
       " 2023-09-22    23.200000\n",
       " 2023-09-23    23.033333\n",
       " 2023-09-24    21.933333\n",
       " 2023-09-25    22.466667\n",
       " 2023-09-26    26.600000\n",
       " 2023-09-27    30.733333\n",
       " 2023-09-28    30.366667\n",
       " 2023-09-29    29.366667\n",
       " 2023-09-30    30.633333\n",
       " 2023-10-01    30.933333\n",
       " 2023-10-02    31.866667\n",
       " 2023-10-03    32.366667\n",
       " 2023-10-04    33.433333\n",
       " 2023-10-05    33.866667\n",
       " 2023-10-06    35.133333\n",
       " 2023-10-07    33.966667\n",
       " 2023-10-08    34.433333\n",
       " 2023-10-09    35.400000\n",
       " 2023-10-10    36.266667\n",
       " 2023-10-11    36.500000\n",
       " 2023-10-12    36.633333\n",
       " 2023-10-13    37.100000\n",
       " 2023-10-14    40.700000\n",
       " 2023-10-15    44.433333\n",
       " 2023-10-16    43.433333\n",
       " 2023-10-17    44.000000\n",
       " Name: Demand, dtype: float64,\n",
       " 'Exponential Smoothing': 2023-08-21    69.051934\n",
       " 2023-08-22    47.599742\n",
       " 2023-08-23    64.153913\n",
       " 2023-08-24    33.169424\n",
       " 2023-08-25    28.079473\n",
       " 2023-08-26    36.361962\n",
       " 2023-08-27    28.225703\n",
       " 2023-08-28    29.831182\n",
       " 2023-08-29    33.875784\n",
       " 2023-08-30    51.483466\n",
       " 2023-08-31    41.355919\n",
       " 2023-09-01    34.140574\n",
       " 2023-09-02    69.051934\n",
       " 2023-09-03    47.599742\n",
       " 2023-09-04    64.153913\n",
       " 2023-09-05    33.169424\n",
       " 2023-09-06    28.079473\n",
       " 2023-09-07    36.361962\n",
       " 2023-09-08    28.225703\n",
       " 2023-09-09    29.831182\n",
       " 2023-09-10    33.875784\n",
       " 2023-09-11    51.483466\n",
       " 2023-09-12    41.355919\n",
       " 2023-09-13    34.140574\n",
       " 2023-09-14    69.051934\n",
       " 2023-09-15    47.599742\n",
       " 2023-09-16    64.153913\n",
       " 2023-09-17    33.169424\n",
       " 2023-09-18    28.079473\n",
       " 2023-09-19    36.361962\n",
       " Freq: D, dtype: float64,\n",
       " 'Double Exponential Smoothing': 2023-08-21    44.824962\n",
       " 2023-08-22    44.923470\n",
       " 2023-08-23    45.021977\n",
       " 2023-08-24    45.120485\n",
       " 2023-08-25    45.218992\n",
       " 2023-08-26    45.317500\n",
       " 2023-08-27    45.416007\n",
       " 2023-08-28    45.514515\n",
       " 2023-08-29    45.613022\n",
       " 2023-08-30    45.711530\n",
       " 2023-08-31    45.810037\n",
       " 2023-09-01    45.908545\n",
       " 2023-09-02    46.007052\n",
       " 2023-09-03    46.105560\n",
       " 2023-09-04    46.204067\n",
       " 2023-09-05    46.302575\n",
       " 2023-09-06    46.401082\n",
       " 2023-09-07    46.499590\n",
       " 2023-09-08    46.598097\n",
       " 2023-09-09    46.696605\n",
       " 2023-09-10    46.795112\n",
       " 2023-09-11    46.893619\n",
       " 2023-09-12    46.992127\n",
       " 2023-09-13    47.090634\n",
       " 2023-09-14    47.189142\n",
       " 2023-09-15    47.287649\n",
       " 2023-09-16    47.386157\n",
       " 2023-09-17    47.484664\n",
       " 2023-09-18    47.583172\n",
       " 2023-09-19    47.681679\n",
       " Freq: D, dtype: float64}"
      ]
     },
     "execution_count": 76,
     "metadata": {},
     "output_type": "execute_result"
    }
   ],
   "source": [
    "forecast_methods"
   ]
  },
  {
   "cell_type": "code",
   "execution_count": 77,
   "metadata": {},
   "outputs": [
    {
     "name": "stderr",
     "output_type": "stream",
     "text": [
      "/Users/dibs/Documents/Django/DjangoApps/venv311/lib/python3.11/site-packages/statsmodels/tsa/base/tsa_model.py:473: ValueWarning: No frequency information was provided, so inferred frequency D will be used.\n",
      "  self._init_dates(dates, freq)\n"
     ]
    }
   ],
   "source": [
    "model = ExponentialSmoothing(train, trend='add', seasonal='add', seasonal_periods=12)\n",
    "fit = model.fit()\n",
    "forecast_methods['Triple Exponential Smoothing'] = fit.forecast(forecast_days)"
   ]
  },
  {
   "cell_type": "code",
   "execution_count": 78,
   "metadata": {},
   "outputs": [
    {
     "name": "stderr",
     "output_type": "stream",
     "text": [
      "/Users/dibs/Documents/Django/DjangoApps/venv311/lib/python3.11/site-packages/statsmodels/tsa/base/tsa_model.py:473: ValueWarning: No frequency information was provided, so inferred frequency D will be used.\n",
      "  self._init_dates(dates, freq)\n"
     ]
    }
   ],
   "source": [
    "model = ExponentialSmoothing(train, trend='add', seasonal='mul', seasonal_periods=12)\n",
    "fit = model.fit()\n",
    "forecast_methods['Triple Additive Exponential Smoothing'] = fit.forecast(forecast_days)"
   ]
  },
  {
   "cell_type": "code",
   "execution_count": 80,
   "metadata": {},
   "outputs": [],
   "source": [
    "from sklearn.ensemble import AdaBoostRegressor"
   ]
  },
  {
   "cell_type": "code",
   "execution_count": 81,
   "metadata": {},
   "outputs": [],
   "source": [
    "model = AdaBoostRegressor()\n",
    "model.fit(train.index.factorize()[0].reshape(-1, 1), train.values.ravel())\n",
    "forecast_methods['Adaptive Boosting'] = model.predict(pd.Series(test.index.factorize()[0]).iloc[:forecast_days].values.reshape(-1, 1))\n"
   ]
  },
  {
   "cell_type": "code",
   "execution_count": 82,
   "metadata": {},
   "outputs": [
    {
     "data": {
      "text/plain": [
       "{'Moving Average': Date\n",
       " 2023-09-20    22.700000\n",
       " 2023-09-21    23.100000\n",
       " 2023-09-22    23.200000\n",
       " 2023-09-23    23.033333\n",
       " 2023-09-24    21.933333\n",
       " 2023-09-25    22.466667\n",
       " 2023-09-26    26.600000\n",
       " 2023-09-27    30.733333\n",
       " 2023-09-28    30.366667\n",
       " 2023-09-29    29.366667\n",
       " 2023-09-30    30.633333\n",
       " 2023-10-01    30.933333\n",
       " 2023-10-02    31.866667\n",
       " 2023-10-03    32.366667\n",
       " 2023-10-04    33.433333\n",
       " 2023-10-05    33.866667\n",
       " 2023-10-06    35.133333\n",
       " 2023-10-07    33.966667\n",
       " 2023-10-08    34.433333\n",
       " 2023-10-09    35.400000\n",
       " 2023-10-10    36.266667\n",
       " 2023-10-11    36.500000\n",
       " 2023-10-12    36.633333\n",
       " 2023-10-13    37.100000\n",
       " 2023-10-14    40.700000\n",
       " 2023-10-15    44.433333\n",
       " 2023-10-16    43.433333\n",
       " 2023-10-17    44.000000\n",
       " Name: Demand, dtype: float64,\n",
       " 'Exponential Smoothing': 2023-08-21    69.051934\n",
       " 2023-08-22    47.599742\n",
       " 2023-08-23    64.153913\n",
       " 2023-08-24    33.169424\n",
       " 2023-08-25    28.079473\n",
       " 2023-08-26    36.361962\n",
       " 2023-08-27    28.225703\n",
       " 2023-08-28    29.831182\n",
       " 2023-08-29    33.875784\n",
       " 2023-08-30    51.483466\n",
       " 2023-08-31    41.355919\n",
       " 2023-09-01    34.140574\n",
       " 2023-09-02    69.051934\n",
       " 2023-09-03    47.599742\n",
       " 2023-09-04    64.153913\n",
       " 2023-09-05    33.169424\n",
       " 2023-09-06    28.079473\n",
       " 2023-09-07    36.361962\n",
       " 2023-09-08    28.225703\n",
       " 2023-09-09    29.831182\n",
       " 2023-09-10    33.875784\n",
       " 2023-09-11    51.483466\n",
       " 2023-09-12    41.355919\n",
       " 2023-09-13    34.140574\n",
       " 2023-09-14    69.051934\n",
       " 2023-09-15    47.599742\n",
       " 2023-09-16    64.153913\n",
       " 2023-09-17    33.169424\n",
       " 2023-09-18    28.079473\n",
       " 2023-09-19    36.361962\n",
       " Freq: D, dtype: float64,\n",
       " 'Double Exponential Smoothing': 2023-08-21    44.824962\n",
       " 2023-08-22    44.923470\n",
       " 2023-08-23    45.021977\n",
       " 2023-08-24    45.120485\n",
       " 2023-08-25    45.218992\n",
       " 2023-08-26    45.317500\n",
       " 2023-08-27    45.416007\n",
       " 2023-08-28    45.514515\n",
       " 2023-08-29    45.613022\n",
       " 2023-08-30    45.711530\n",
       " 2023-08-31    45.810037\n",
       " 2023-09-01    45.908545\n",
       " 2023-09-02    46.007052\n",
       " 2023-09-03    46.105560\n",
       " 2023-09-04    46.204067\n",
       " 2023-09-05    46.302575\n",
       " 2023-09-06    46.401082\n",
       " 2023-09-07    46.499590\n",
       " 2023-09-08    46.598097\n",
       " 2023-09-09    46.696605\n",
       " 2023-09-10    46.795112\n",
       " 2023-09-11    46.893619\n",
       " 2023-09-12    46.992127\n",
       " 2023-09-13    47.090634\n",
       " 2023-09-14    47.189142\n",
       " 2023-09-15    47.287649\n",
       " 2023-09-16    47.386157\n",
       " 2023-09-17    47.484664\n",
       " 2023-09-18    47.583172\n",
       " 2023-09-19    47.681679\n",
       " Freq: D, dtype: float64,\n",
       " 'Triple Exponential Smoothing': 2023-08-21    71.032961\n",
       " 2023-08-22    53.543037\n",
       " 2023-08-23    65.524444\n",
       " 2023-08-24    37.744986\n",
       " 2023-08-25    33.697608\n",
       " 2023-08-26    41.746954\n",
       " 2023-08-27    33.681244\n",
       " 2023-08-28    36.195657\n",
       " 2023-08-29    39.963676\n",
       " 2023-08-30    55.549613\n",
       " 2023-08-31    47.597095\n",
       " 2023-09-01    41.135851\n",
       " 2023-09-02    72.849708\n",
       " 2023-09-03    55.359784\n",
       " 2023-09-04    67.341191\n",
       " 2023-09-05    39.561733\n",
       " 2023-09-06    35.514355\n",
       " 2023-09-07    43.563701\n",
       " 2023-09-08    35.497991\n",
       " 2023-09-09    38.012405\n",
       " 2023-09-10    41.780423\n",
       " 2023-09-11    57.366360\n",
       " 2023-09-12    49.413842\n",
       " 2023-09-13    42.952599\n",
       " 2023-09-14    74.666456\n",
       " 2023-09-15    57.176531\n",
       " 2023-09-16    69.157938\n",
       " 2023-09-17    41.378480\n",
       " 2023-09-18    37.331102\n",
       " 2023-09-19    45.380449\n",
       " Freq: D, dtype: float64,\n",
       " 'Triple Additive Exponential Smoothing': 2023-08-21    63.141688\n",
       " 2023-08-22    58.288347\n",
       " 2023-08-23    56.706451\n",
       " 2023-08-24    32.932606\n",
       " 2023-08-25    32.708170\n",
       " 2023-08-26    38.315398\n",
       " 2023-08-27    25.347047\n",
       " 2023-08-28    38.190788\n",
       " 2023-08-29    34.857877\n",
       " 2023-08-30    43.212287\n",
       " 2023-08-31    47.151714\n",
       " 2023-09-01    41.021312\n",
       " 2023-09-02    63.444568\n",
       " 2023-09-03    58.567835\n",
       " 2023-09-04    56.978245\n",
       " 2023-09-05    33.090389\n",
       " 2023-09-06    32.864815\n",
       " 2023-09-07    38.498824\n",
       " 2023-09-08    25.468342\n",
       " 2023-09-09    38.373472\n",
       " 2023-09-10    35.024552\n",
       " 2023-09-11    43.418827\n",
       " 2023-09-12    47.376992\n",
       " 2023-09-13    41.217223\n",
       " 2023-09-14    63.747448\n",
       " 2023-09-15    58.847323\n",
       " 2023-09-16    57.250039\n",
       " 2023-09-17    33.248172\n",
       " 2023-09-18    33.021460\n",
       " 2023-09-19    38.682250\n",
       " Freq: D, dtype: float64,\n",
       " 'Adaptive Boosting': array([36.15517241, 36.15517241, 36.15517241, 36.15517241, 36.15517241,\n",
       "        36.15517241, 36.15517241, 36.15517241, 36.15517241, 36.15517241,\n",
       "        36.15517241, 36.15517241, 36.15517241, 36.15517241, 36.15517241,\n",
       "        36.15517241, 36.15517241, 36.15517241, 36.15517241, 36.15517241,\n",
       "        36.15517241, 36.15517241, 36.15517241, 36.15517241, 36.15517241,\n",
       "        36.15517241, 36.15517241, 36.15517241, 36.15517241, 36.15517241])}"
      ]
     },
     "execution_count": 82,
     "metadata": {},
     "output_type": "execute_result"
    }
   ],
   "source": [
    "forecast_methods"
   ]
  },
  {
   "cell_type": "code",
   "execution_count": 84,
   "metadata": {},
   "outputs": [],
   "source": [
    "model = AdaBoostRegressor()\n",
    "model.fit(train.index.factorize()[0].reshape(-1, 1), train.values.ravel())\n",
    "forecast_methods['Adaptive Boosting'] = model.predict(pd.Series(test.index.factorize()[0]).iloc[:forecast_days].values.reshape(-1, 1))"
   ]
  },
  {
   "cell_type": "code",
   "execution_count": 85,
   "metadata": {},
   "outputs": [
    {
     "data": {
      "text/plain": [
       "array([45.84615385, 45.84615385, 45.84615385, 45.84615385, 45.84615385,\n",
       "       45.84615385, 45.84615385, 45.84615385, 45.84615385, 45.84615385,\n",
       "       44.26666667, 44.26666667, 44.26666667, 44.26666667, 44.26666667,\n",
       "       45.66666667, 45.66666667, 45.66666667, 45.66666667, 45.66666667,\n",
       "       45.66666667, 45.66666667, 45.66666667, 45.66666667, 45.66666667,\n",
       "       28.03125   , 28.03125   , 28.03125   , 28.03125   , 28.03125   ])"
      ]
     },
     "execution_count": 85,
     "metadata": {},
     "output_type": "execute_result"
    }
   ],
   "source": [
    "forecast_methods['Adaptive Boosting']"
   ]
  },
  {
   "cell_type": "code",
   "execution_count": 87,
   "metadata": {},
   "outputs": [],
   "source": [
    "from xgboost import XGBRegressor"
   ]
  },
  {
   "cell_type": "code",
   "execution_count": 88,
   "metadata": {},
   "outputs": [],
   "source": [
    "model = XGBRegressor()\n",
    "model.fit(train.index.factorize()[0].reshape(-1, 1), train.values.ravel())\n",
    "forecast_methods['Extreme Gradient Boosting'] = model.predict(pd.Series(test.index.factorize()[0]).iloc[:forecast_days].values.reshape(-1, 1))"
   ]
  },
  {
   "cell_type": "code",
   "execution_count": 89,
   "metadata": {},
   "outputs": [
    {
     "data": {
      "text/plain": [
       "array([20.933443 , 27.594698 , 20.100788 , 43.63753  , 50.4996   ,\n",
       "       20.380152 , 46.98264  , 49.851997 , 79.833595 , 34.130085 ,\n",
       "       15.5580635, 17.439993 , 27.648874 , 49.132812 , 12.196057 ,\n",
       "       32.5641   , 27.557455 , 85.859505 , 12.884094 , 26.009483 ,\n",
       "       26.009483 , 20.941645 , 39.360054 , 14.207999 , 40.30644  ,\n",
       "       27.83219  , 16.09493  , 16.394932 , 10.231154 , 17.905123 ],\n",
       "      dtype=float32)"
      ]
     },
     "execution_count": 89,
     "metadata": {},
     "output_type": "execute_result"
    }
   ],
   "source": [
    "forecast_methods['Extreme Gradient Boosting']"
   ]
  },
  {
   "cell_type": "code",
   "execution_count": 91,
   "metadata": {},
   "outputs": [],
   "source": [
    "from keras.models import Sequential\n",
    "from keras.layers import Dense, LSTM"
   ]
  },
  {
   "cell_type": "code",
   "execution_count": 92,
   "metadata": {},
   "outputs": [
    {
     "ename": "KeyError",
     "evalue": "3",
     "output_type": "error",
     "traceback": [
      "\u001b[0;31m---------------------------------------------------------------------------\u001b[0m",
      "\u001b[0;31mKeyError\u001b[0m                                  Traceback (most recent call last)",
      "File \u001b[0;32m~/Documents/Django/DjangoApps/venv311/lib/python3.11/site-packages/pandas/core/indexes/base.py:3805\u001b[0m, in \u001b[0;36mIndex.get_loc\u001b[0;34m(self, key)\u001b[0m\n\u001b[1;32m   3804\u001b[0m \u001b[38;5;28;01mtry\u001b[39;00m:\n\u001b[0;32m-> 3805\u001b[0m     \u001b[38;5;28;01mreturn\u001b[39;00m \u001b[38;5;28;43mself\u001b[39;49m\u001b[38;5;241;43m.\u001b[39;49m\u001b[43m_engine\u001b[49m\u001b[38;5;241;43m.\u001b[39;49m\u001b[43mget_loc\u001b[49m\u001b[43m(\u001b[49m\u001b[43mcasted_key\u001b[49m\u001b[43m)\u001b[49m\n\u001b[1;32m   3806\u001b[0m \u001b[38;5;28;01mexcept\u001b[39;00m \u001b[38;5;167;01mKeyError\u001b[39;00m \u001b[38;5;28;01mas\u001b[39;00m err:\n",
      "File \u001b[0;32mindex.pyx:167\u001b[0m, in \u001b[0;36mpandas._libs.index.IndexEngine.get_loc\u001b[0;34m()\u001b[0m\n",
      "File \u001b[0;32mindex.pyx:196\u001b[0m, in \u001b[0;36mpandas._libs.index.IndexEngine.get_loc\u001b[0;34m()\u001b[0m\n",
      "File \u001b[0;32mpandas/_libs/hashtable_class_helper.pxi:7081\u001b[0m, in \u001b[0;36mpandas._libs.hashtable.PyObjectHashTable.get_item\u001b[0;34m()\u001b[0m\n",
      "File \u001b[0;32mpandas/_libs/hashtable_class_helper.pxi:7089\u001b[0m, in \u001b[0;36mpandas._libs.hashtable.PyObjectHashTable.get_item\u001b[0;34m()\u001b[0m\n",
      "\u001b[0;31mKeyError\u001b[0m: 3",
      "\nThe above exception was the direct cause of the following exception:\n",
      "\u001b[0;31mKeyError\u001b[0m                                  Traceback (most recent call last)",
      "Cell \u001b[0;32mIn[92], line 5\u001b[0m\n\u001b[1;32m      3\u001b[0m \u001b[38;5;28;01mfor\u001b[39;00m i \u001b[38;5;129;01min\u001b[39;00m \u001b[38;5;28mrange\u001b[39m(\u001b[38;5;241m3\u001b[39m, \u001b[38;5;28mlen\u001b[39m(train_scaled)):\n\u001b[1;32m      4\u001b[0m     X_train\u001b[38;5;241m.\u001b[39mappend(train_scaled[i\u001b[38;5;241m-\u001b[39m\u001b[38;5;241m3\u001b[39m:i]\u001b[38;5;241m.\u001b[39mvalues)\n\u001b[0;32m----> 5\u001b[0m     y_train\u001b[38;5;241m.\u001b[39mappend(\u001b[43mtrain_scaled\u001b[49m\u001b[43m[\u001b[49m\u001b[43mi\u001b[49m\u001b[43m]\u001b[49m\u001b[38;5;241m.\u001b[39mvalues)\n\u001b[1;32m      6\u001b[0m X_train, y_train \u001b[38;5;241m=\u001b[39m np\u001b[38;5;241m.\u001b[39marray(X_train), np\u001b[38;5;241m.\u001b[39marray(y_train)\n\u001b[1;32m      8\u001b[0m model \u001b[38;5;241m=\u001b[39m Sequential()\n",
      "File \u001b[0;32m~/Documents/Django/DjangoApps/venv311/lib/python3.11/site-packages/pandas/core/frame.py:4102\u001b[0m, in \u001b[0;36mDataFrame.__getitem__\u001b[0;34m(self, key)\u001b[0m\n\u001b[1;32m   4100\u001b[0m \u001b[38;5;28;01mif\u001b[39;00m \u001b[38;5;28mself\u001b[39m\u001b[38;5;241m.\u001b[39mcolumns\u001b[38;5;241m.\u001b[39mnlevels \u001b[38;5;241m>\u001b[39m \u001b[38;5;241m1\u001b[39m:\n\u001b[1;32m   4101\u001b[0m     \u001b[38;5;28;01mreturn\u001b[39;00m \u001b[38;5;28mself\u001b[39m\u001b[38;5;241m.\u001b[39m_getitem_multilevel(key)\n\u001b[0;32m-> 4102\u001b[0m indexer \u001b[38;5;241m=\u001b[39m \u001b[38;5;28;43mself\u001b[39;49m\u001b[38;5;241;43m.\u001b[39;49m\u001b[43mcolumns\u001b[49m\u001b[38;5;241;43m.\u001b[39;49m\u001b[43mget_loc\u001b[49m\u001b[43m(\u001b[49m\u001b[43mkey\u001b[49m\u001b[43m)\u001b[49m\n\u001b[1;32m   4103\u001b[0m \u001b[38;5;28;01mif\u001b[39;00m is_integer(indexer):\n\u001b[1;32m   4104\u001b[0m     indexer \u001b[38;5;241m=\u001b[39m [indexer]\n",
      "File \u001b[0;32m~/Documents/Django/DjangoApps/venv311/lib/python3.11/site-packages/pandas/core/indexes/base.py:3812\u001b[0m, in \u001b[0;36mIndex.get_loc\u001b[0;34m(self, key)\u001b[0m\n\u001b[1;32m   3807\u001b[0m     \u001b[38;5;28;01mif\u001b[39;00m \u001b[38;5;28misinstance\u001b[39m(casted_key, \u001b[38;5;28mslice\u001b[39m) \u001b[38;5;129;01mor\u001b[39;00m (\n\u001b[1;32m   3808\u001b[0m         \u001b[38;5;28misinstance\u001b[39m(casted_key, abc\u001b[38;5;241m.\u001b[39mIterable)\n\u001b[1;32m   3809\u001b[0m         \u001b[38;5;129;01mand\u001b[39;00m \u001b[38;5;28many\u001b[39m(\u001b[38;5;28misinstance\u001b[39m(x, \u001b[38;5;28mslice\u001b[39m) \u001b[38;5;28;01mfor\u001b[39;00m x \u001b[38;5;129;01min\u001b[39;00m casted_key)\n\u001b[1;32m   3810\u001b[0m     ):\n\u001b[1;32m   3811\u001b[0m         \u001b[38;5;28;01mraise\u001b[39;00m InvalidIndexError(key)\n\u001b[0;32m-> 3812\u001b[0m     \u001b[38;5;28;01mraise\u001b[39;00m \u001b[38;5;167;01mKeyError\u001b[39;00m(key) \u001b[38;5;28;01mfrom\u001b[39;00m \u001b[38;5;21;01merr\u001b[39;00m\n\u001b[1;32m   3813\u001b[0m \u001b[38;5;28;01mexcept\u001b[39;00m \u001b[38;5;167;01mTypeError\u001b[39;00m:\n\u001b[1;32m   3814\u001b[0m     \u001b[38;5;66;03m# If we have a listlike key, _check_indexing_error will raise\u001b[39;00m\n\u001b[1;32m   3815\u001b[0m     \u001b[38;5;66;03m#  InvalidIndexError. Otherwise we fall through and re-raise\u001b[39;00m\n\u001b[1;32m   3816\u001b[0m     \u001b[38;5;66;03m#  the TypeError.\u001b[39;00m\n\u001b[1;32m   3817\u001b[0m     \u001b[38;5;28mself\u001b[39m\u001b[38;5;241m.\u001b[39m_check_indexing_error(key)\n",
      "\u001b[0;31mKeyError\u001b[0m: 3"
     ]
    }
   ],
   "source": [
    "train_scaled = (train - train.mean()) / train.std()\n",
    "X_train, y_train = [], []\n",
    "for i in range(3, len(train_scaled)):\n",
    "    X_train.append(train_scaled[i-3:i].values)\n",
    "    y_train.append(train_scaled[i].values)\n",
    "X_train, y_train = np.array(X_train), np.array(y_train)\n",
    "\n",
    "model = Sequential()\n",
    "model.add(LSTM(50, return_sequences=True, input_shape=(X_train.shape[1], 1)))\n",
    "model.add(LSTM(50, return_sequences=False))\n",
    "model.add(Dense(1))\n",
    "model.compile(optimizer='adam', loss='mean_squared_error')\n",
    "model.fit(X_train, y_train, epochs=20, batch_size=1, verbose=0)\n",
    "\n",
    "inputs = train_scaled[len(train_scaled) - len(test) - 3:].values\n",
    "X_test = []\n",
    "for i in range(3, len(inputs)):\n",
    "    X_test.append(inputs[i-3:i, 0])\n",
    "X_test = np.array(X_test)\n",
    "X_test = np.reshape(X_test, (X_test.shape[0], X_test.shape[1], 1))\n",
    "\n",
    "predictions = model.predict(X_test)\n",
    "predictions = predictions * train.std() + train.mean()\n",
    "forecast_methods['LSTM'] = predictions[:forecast_days]"
   ]
  },
  {
   "cell_type": "code",
   "execution_count": 95,
   "metadata": {},
   "outputs": [],
   "source": [
    "import plotly.express as px"
   ]
  },
  {
   "cell_type": "code",
   "execution_count": 96,
   "metadata": {},
   "outputs": [],
   "source": [
    "for method, forecast in forecast_methods.items():\n",
    "    if forecast is not None:\n",
    "        forecast = pd.Series(forecast, index=pd.date_range(start=train.index[-1], periods=forecast_days + 1, inclusive='right'))\n",
    "        error = round((forecast - test[demand_column]).mean(), 2)\n",
    "        mape = round(((forecast - test[demand_column]).abs() / test[demand_column]).mean() * 100, 2)\n",
    "        mae = round((forecast - test[demand_column]).abs().mean(), 2)\n",
    "        rmse = round(((forecast - test[demand_column]) ** 2).mean() ** 0.5, 2)\n",
    "        kpi_data[method] = {'error': error, 'mape': mape, 'mae': mae, 'rmse': rmse}\n",
    "\n",
    "        fig = px.line(df, x=df.index, y=demand_column, title=f'{method} Demand Forecast')\n",
    "        fig.add_scatter(x=forecast.index, y=forecast.values, mode='lines', name='Forecast')\n",
    "        kpi_data[method]['plot'] = fig.to_html(full_html=False)\n",
    "    else:\n",
    "        kpi_data[method] = {'error': 'N/A', 'mape': 'N/A', 'mae': 'N/A', 'rmse': 'N/A', 'plot': None}\n"
   ]
  },
  {
   "cell_type": "code",
   "execution_count": 101,
   "metadata": {},
   "outputs": [
    {
     "ename": "ValueError",
     "evalue": "Length of values (28) does not match length of index (27)",
     "output_type": "error",
     "traceback": [
      "\u001b[0;31m---------------------------------------------------------------------------\u001b[0m",
      "\u001b[0;31mValueError\u001b[0m                                Traceback (most recent call last)",
      "Cell \u001b[0;32mIn[101], line 7\u001b[0m\n\u001b[1;32m      5\u001b[0m forecast_index \u001b[38;5;241m=\u001b[39m pd\u001b[38;5;241m.\u001b[39mdate_range(start\u001b[38;5;241m=\u001b[39mtest\u001b[38;5;241m.\u001b[39mindex[\u001b[38;5;241m-\u001b[39m\u001b[38;5;241m1\u001b[39m], periods\u001b[38;5;241m=\u001b[39mforecast_length \u001b[38;5;241m+\u001b[39m \u001b[38;5;241m1\u001b[39m, inclusive\u001b[38;5;241m=\u001b[39m\u001b[38;5;124m'\u001b[39m\u001b[38;5;124mright\u001b[39m\u001b[38;5;124m'\u001b[39m)[\u001b[38;5;241m1\u001b[39m:]\n\u001b[1;32m      6\u001b[0m forecast_series \u001b[38;5;241m=\u001b[39m pd\u001b[38;5;241m.\u001b[39mSeries(forecast[:forecast_length], index\u001b[38;5;241m=\u001b[39mforecast_index)\n\u001b[0;32m----> 7\u001b[0m extended_test \u001b[38;5;241m=\u001b[39m pd\u001b[38;5;241m.\u001b[39mconcat([test[demand_column], \u001b[43mpd\u001b[49m\u001b[38;5;241;43m.\u001b[39;49m\u001b[43mSeries\u001b[49m\u001b[43m(\u001b[49m\u001b[43m[\u001b[49m\u001b[38;5;28;43;01mNone\u001b[39;49;00m\u001b[43m]\u001b[49m\u001b[43m \u001b[49m\u001b[38;5;241;43m*\u001b[39;49m\u001b[43m \u001b[49m\u001b[43mforecast_length\u001b[49m\u001b[43m,\u001b[49m\u001b[43m \u001b[49m\u001b[43mindex\u001b[49m\u001b[38;5;241;43m=\u001b[39;49m\u001b[43mforecast_index\u001b[49m\u001b[43m)\u001b[49m])\n\u001b[1;32m      9\u001b[0m error \u001b[38;5;241m=\u001b[39m \u001b[38;5;28mround\u001b[39m((forecast_series \u001b[38;5;241m-\u001b[39m extended_test)\u001b[38;5;241m.\u001b[39mmean(), \u001b[38;5;241m2\u001b[39m)\n\u001b[1;32m     10\u001b[0m mape \u001b[38;5;241m=\u001b[39m \u001b[38;5;28mround\u001b[39m(((forecast_series \u001b[38;5;241m-\u001b[39m extended_test)\u001b[38;5;241m.\u001b[39mabs() \u001b[38;5;241m/\u001b[39m extended_test)\u001b[38;5;241m.\u001b[39mmean() \u001b[38;5;241m*\u001b[39m \u001b[38;5;241m100\u001b[39m, \u001b[38;5;241m2\u001b[39m)\n",
      "File \u001b[0;32m~/Documents/Django/DjangoApps/venv311/lib/python3.11/site-packages/pandas/core/series.py:575\u001b[0m, in \u001b[0;36mSeries.__init__\u001b[0;34m(self, data, index, dtype, name, copy, fastpath)\u001b[0m\n\u001b[1;32m    573\u001b[0m     index \u001b[38;5;241m=\u001b[39m default_index(\u001b[38;5;28mlen\u001b[39m(data))\n\u001b[1;32m    574\u001b[0m \u001b[38;5;28;01melif\u001b[39;00m is_list_like(data):\n\u001b[0;32m--> 575\u001b[0m     \u001b[43mcom\u001b[49m\u001b[38;5;241;43m.\u001b[39;49m\u001b[43mrequire_length_match\u001b[49m\u001b[43m(\u001b[49m\u001b[43mdata\u001b[49m\u001b[43m,\u001b[49m\u001b[43m \u001b[49m\u001b[43mindex\u001b[49m\u001b[43m)\u001b[49m\n\u001b[1;32m    577\u001b[0m \u001b[38;5;66;03m# create/copy the manager\u001b[39;00m\n\u001b[1;32m    578\u001b[0m \u001b[38;5;28;01mif\u001b[39;00m \u001b[38;5;28misinstance\u001b[39m(data, (SingleBlockManager, SingleArrayManager)):\n",
      "File \u001b[0;32m~/Documents/Django/DjangoApps/venv311/lib/python3.11/site-packages/pandas/core/common.py:573\u001b[0m, in \u001b[0;36mrequire_length_match\u001b[0;34m(data, index)\u001b[0m\n\u001b[1;32m    569\u001b[0m \u001b[38;5;250m\u001b[39m\u001b[38;5;124;03m\"\"\"\u001b[39;00m\n\u001b[1;32m    570\u001b[0m \u001b[38;5;124;03mCheck the length of data matches the length of the index.\u001b[39;00m\n\u001b[1;32m    571\u001b[0m \u001b[38;5;124;03m\"\"\"\u001b[39;00m\n\u001b[1;32m    572\u001b[0m \u001b[38;5;28;01mif\u001b[39;00m \u001b[38;5;28mlen\u001b[39m(data) \u001b[38;5;241m!=\u001b[39m \u001b[38;5;28mlen\u001b[39m(index):\n\u001b[0;32m--> 573\u001b[0m     \u001b[38;5;28;01mraise\u001b[39;00m \u001b[38;5;167;01mValueError\u001b[39;00m(\n\u001b[1;32m    574\u001b[0m         \u001b[38;5;124m\"\u001b[39m\u001b[38;5;124mLength of values \u001b[39m\u001b[38;5;124m\"\u001b[39m\n\u001b[1;32m    575\u001b[0m         \u001b[38;5;124mf\u001b[39m\u001b[38;5;124m\"\u001b[39m\u001b[38;5;124m(\u001b[39m\u001b[38;5;132;01m{\u001b[39;00m\u001b[38;5;28mlen\u001b[39m(data)\u001b[38;5;132;01m}\u001b[39;00m\u001b[38;5;124m) \u001b[39m\u001b[38;5;124m\"\u001b[39m\n\u001b[1;32m    576\u001b[0m         \u001b[38;5;124m\"\u001b[39m\u001b[38;5;124mdoes not match length of index \u001b[39m\u001b[38;5;124m\"\u001b[39m\n\u001b[1;32m    577\u001b[0m         \u001b[38;5;124mf\u001b[39m\u001b[38;5;124m\"\u001b[39m\u001b[38;5;124m(\u001b[39m\u001b[38;5;132;01m{\u001b[39;00m\u001b[38;5;28mlen\u001b[39m(index)\u001b[38;5;132;01m}\u001b[39;00m\u001b[38;5;124m)\u001b[39m\u001b[38;5;124m\"\u001b[39m\n\u001b[1;32m    578\u001b[0m     )\n",
      "\u001b[0;31mValueError\u001b[0m: Length of values (28) does not match length of index (27)"
     ]
    }
   ],
   "source": [
    "for method, forecast in forecast_methods.items():\n",
    "    if forecast is not None:\n",
    "        # Ensure the forecast length matches the forecast index length\n",
    "        forecast_length = min(len(forecast), forecast_days)\n",
    "        forecast_index = pd.date_range(start=test.index[-1], periods=forecast_length + 1, inclusive='right')[1:]\n",
    "        forecast_series = pd.Series(forecast[:forecast_length], index=forecast_index)\n",
    "        extended_test = pd.concat([test[demand_column], pd.Series([None] * forecast_length, index=forecast_index)])\n",
    "\n",
    "        error = round((forecast_series - extended_test).mean(), 2)\n",
    "        mape = round(((forecast_series - extended_test).abs() / extended_test).mean() * 100, 2)\n",
    "        mae = round((forecast_series - extended_test).abs().mean(), 2)\n",
    "        rmse = round(((forecast_series - extended_test) ** 2).mean() ** 0.5, 2)\n",
    "        \n",
    "        kpi_data[method] = {'error': error, 'mape': mape, 'mae': mae, 'rmse': rmse}\n",
    "\n",
    "        fig = px.line(df, x=df.index, y=demand_column, title=f'{method} Demand Forecast')\n",
    "        fig.add_scatter(x=forecast_series.index, y=forecast_series.values, mode='lines', name='Forecast')\n",
    "        kpi_data[method]['plot'] = fig.to_html(full_html=False)\n",
    "    else:\n",
    "        kpi_data[method] = {'error': 'N/A', 'mape': 'N/A', 'mae': 'N/A', 'rmse': 'N/A', 'plot': None}\n"
   ]
  },
  {
   "cell_type": "code",
   "execution_count": null,
   "metadata": {},
   "outputs": [],
   "source": []
  }
 ],
 "metadata": {
  "kernelspec": {
   "display_name": "venv311",
   "language": "python",
   "name": "python3"
  },
  "language_info": {
   "codemirror_mode": {
    "name": "ipython",
    "version": 3
   },
   "file_extension": ".py",
   "mimetype": "text/x-python",
   "name": "python",
   "nbconvert_exporter": "python",
   "pygments_lexer": "ipython3",
   "version": "3.11.9"
  }
 },
 "nbformat": 4,
 "nbformat_minor": 2
}
