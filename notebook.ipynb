{
 "cells": [
  {
   "cell_type": "code",
   "execution_count": 122,
   "metadata": {},
   "outputs": [],
   "source": [
    "import pandas as pd"
   ]
  },
  {
   "cell_type": "code",
   "execution_count": 123,
   "metadata": {},
   "outputs": [],
   "source": [
    "df = pd.read_csv('media/csvs/DemandForecast.csv')"
   ]
  },
  {
   "cell_type": "code",
   "execution_count": 124,
   "metadata": {},
   "outputs": [
    {
     "data": {
      "text/html": [
       "<div>\n",
       "<style scoped>\n",
       "    .dataframe tbody tr th:only-of-type {\n",
       "        vertical-align: middle;\n",
       "    }\n",
       "\n",
       "    .dataframe tbody tr th {\n",
       "        vertical-align: top;\n",
       "    }\n",
       "\n",
       "    .dataframe thead th {\n",
       "        text-align: right;\n",
       "    }\n",
       "</style>\n",
       "<table border=\"1\" class=\"dataframe\">\n",
       "  <thead>\n",
       "    <tr style=\"text-align: right;\">\n",
       "      <th></th>\n",
       "      <th>Date</th>\n",
       "      <th>Demand</th>\n",
       "    </tr>\n",
       "  </thead>\n",
       "  <tbody>\n",
       "    <tr>\n",
       "      <th>0</th>\n",
       "      <td>01-Jan-23</td>\n",
       "      <td>20</td>\n",
       "    </tr>\n",
       "    <tr>\n",
       "      <th>1</th>\n",
       "      <td>02-Jan-23</td>\n",
       "      <td>28</td>\n",
       "    </tr>\n",
       "    <tr>\n",
       "      <th>2</th>\n",
       "      <td>03-Jan-23</td>\n",
       "      <td>19</td>\n",
       "    </tr>\n",
       "    <tr>\n",
       "      <th>3</th>\n",
       "      <td>04-Jan-23</td>\n",
       "      <td>44</td>\n",
       "    </tr>\n",
       "    <tr>\n",
       "      <th>4</th>\n",
       "      <td>05-Jan-23</td>\n",
       "      <td>52</td>\n",
       "    </tr>\n",
       "  </tbody>\n",
       "</table>\n",
       "</div>"
      ],
      "text/plain": [
       "        Date  Demand\n",
       "0  01-Jan-23      20\n",
       "1  02-Jan-23      28\n",
       "2  03-Jan-23      19\n",
       "3  04-Jan-23      44\n",
       "4  05-Jan-23      52"
      ]
     },
     "execution_count": 124,
     "metadata": {},
     "output_type": "execute_result"
    }
   ],
   "source": [
    "df.head()"
   ]
  },
  {
   "cell_type": "code",
   "execution_count": 125,
   "metadata": {},
   "outputs": [],
   "source": [
    "date_column = \"Date\"\n",
    "demand_column = \"Demand\"\n",
    "forecast_days = 30\n",
    "train_test_split = 80\n",
    "date_format= '%d-%b-%y'\n"
   ]
  },
  {
   "cell_type": "code",
   "execution_count": 126,
   "metadata": {},
   "outputs": [],
   "source": [
    "try:\n",
    "    df[date_column] = pd.to_datetime(df[date_column], format=date_format, errors='coerce')\n",
    "except ValueError:\n",
    "    df[date_column] = pd.to_datetime(df[date_column], infer_datetime_format=True, errors='coerce')"
   ]
  },
  {
   "cell_type": "code",
   "execution_count": 127,
   "metadata": {},
   "outputs": [
    {
     "data": {
      "text/plain": [
       "0     2023-01-01\n",
       "1     2023-01-02\n",
       "2     2023-01-03\n",
       "3     2023-01-04\n",
       "4     2023-01-05\n",
       "         ...    \n",
       "285   2023-10-13\n",
       "286   2023-10-14\n",
       "287   2023-10-15\n",
       "288   2023-10-16\n",
       "289   2023-10-17\n",
       "Name: Date, Length: 290, dtype: datetime64[ns]"
      ]
     },
     "execution_count": 127,
     "metadata": {},
     "output_type": "execute_result"
    }
   ],
   "source": [
    "df[date_column]"
   ]
  },
  {
   "cell_type": "code",
   "execution_count": 128,
   "metadata": {},
   "outputs": [],
   "source": [
    "df = df.set_index(date_column)\n",
    "df = df[[demand_column]].dropna()\n",
    "df[demand_column] = pd.to_numeric(df[demand_column], errors='coerce').fillna(0)"
   ]
  },
  {
   "cell_type": "code",
   "execution_count": 129,
   "metadata": {},
   "outputs": [
    {
     "data": {
      "text/html": [
       "<div>\n",
       "<style scoped>\n",
       "    .dataframe tbody tr th:only-of-type {\n",
       "        vertical-align: middle;\n",
       "    }\n",
       "\n",
       "    .dataframe tbody tr th {\n",
       "        vertical-align: top;\n",
       "    }\n",
       "\n",
       "    .dataframe thead th {\n",
       "        text-align: right;\n",
       "    }\n",
       "</style>\n",
       "<table border=\"1\" class=\"dataframe\">\n",
       "  <thead>\n",
       "    <tr style=\"text-align: right;\">\n",
       "      <th></th>\n",
       "      <th>Demand</th>\n",
       "    </tr>\n",
       "    <tr>\n",
       "      <th>Date</th>\n",
       "      <th></th>\n",
       "    </tr>\n",
       "  </thead>\n",
       "  <tbody>\n",
       "    <tr>\n",
       "      <th>2023-01-01</th>\n",
       "      <td>20</td>\n",
       "    </tr>\n",
       "    <tr>\n",
       "      <th>2023-01-02</th>\n",
       "      <td>28</td>\n",
       "    </tr>\n",
       "    <tr>\n",
       "      <th>2023-01-03</th>\n",
       "      <td>19</td>\n",
       "    </tr>\n",
       "    <tr>\n",
       "      <th>2023-01-04</th>\n",
       "      <td>44</td>\n",
       "    </tr>\n",
       "    <tr>\n",
       "      <th>2023-01-05</th>\n",
       "      <td>52</td>\n",
       "    </tr>\n",
       "  </tbody>\n",
       "</table>\n",
       "</div>"
      ],
      "text/plain": [
       "            Demand\n",
       "Date              \n",
       "2023-01-01      20\n",
       "2023-01-02      28\n",
       "2023-01-03      19\n",
       "2023-01-04      44\n",
       "2023-01-05      52"
      ]
     },
     "execution_count": 129,
     "metadata": {},
     "output_type": "execute_result"
    }
   ],
   "source": [
    "df.head()"
   ]
  },
  {
   "cell_type": "code",
   "execution_count": 144,
   "metadata": {},
   "outputs": [
    {
     "name": "stderr",
     "output_type": "stream",
     "text": [
      "/Users/dibs/Documents/Django/DjangoApps/venv311/lib/python3.11/site-packages/statsmodels/tsa/base/tsa_model.py:473: ValueWarning:\n",
      "\n",
      "No frequency information was provided, so inferred frequency D will be used.\n",
      "\n"
     ]
    },
    {
     "name": "stdout",
     "output_type": "stream",
     "text": [
      "Mean Absolute Error: 23.067359921821534\n",
      "Mean Squared Error: 1630.366509624168\n"
     ]
    },
    {
     "ename": "ValueError",
     "evalue": "Value of 'x' is not the name of a column in 'data_frame'. Expected one of ['index', 'Demand', 'type', 'demand'] but received: date",
     "output_type": "error",
     "traceback": [
      "\u001b[0;31m---------------------------------------------------------------------------\u001b[0m",
      "\u001b[0;31mValueError\u001b[0m                                Traceback (most recent call last)",
      "Cell \u001b[0;32mIn[144], line 33\u001b[0m\n\u001b[1;32m     30\u001b[0m combined_df \u001b[38;5;241m=\u001b[39m pd\u001b[38;5;241m.\u001b[39mconcat([df, forecast_df])\n\u001b[1;32m     32\u001b[0m \u001b[38;5;66;03m# Plot using Plotly Express\u001b[39;00m\n\u001b[0;32m---> 33\u001b[0m fig \u001b[38;5;241m=\u001b[39m \u001b[43mpx\u001b[49m\u001b[38;5;241;43m.\u001b[39;49m\u001b[43mline\u001b[49m\u001b[43m(\u001b[49m\u001b[43mcombined_df\u001b[49m\u001b[38;5;241;43m.\u001b[39;49m\u001b[43mreset_index\u001b[49m\u001b[43m(\u001b[49m\u001b[43m)\u001b[49m\u001b[43m,\u001b[49m\u001b[43m \u001b[49m\u001b[43mx\u001b[49m\u001b[38;5;241;43m=\u001b[39;49m\u001b[38;5;124;43m'\u001b[39;49m\u001b[38;5;124;43mdate\u001b[39;49m\u001b[38;5;124;43m'\u001b[39;49m\u001b[43m,\u001b[49m\u001b[43m \u001b[49m\u001b[43my\u001b[49m\u001b[38;5;241;43m=\u001b[39;49m\u001b[38;5;124;43m'\u001b[39;49m\u001b[38;5;124;43mdemand\u001b[39;49m\u001b[38;5;124;43m'\u001b[39;49m\u001b[43m,\u001b[49m\u001b[43m \u001b[49m\u001b[43mcolor\u001b[49m\u001b[38;5;241;43m=\u001b[39;49m\u001b[38;5;124;43m'\u001b[39;49m\u001b[38;5;124;43mtype\u001b[39;49m\u001b[38;5;124;43m'\u001b[39;49m\u001b[43m,\u001b[49m\u001b[43m \u001b[49m\n\u001b[1;32m     34\u001b[0m \u001b[43m              \u001b[49m\u001b[43mtitle\u001b[49m\u001b[38;5;241;43m=\u001b[39;49m\u001b[38;5;124;43m'\u001b[39;49m\u001b[38;5;124;43mDemand Forecasting using Triple Exponential Smoothing\u001b[39;49m\u001b[38;5;124;43m'\u001b[39;49m\u001b[43m,\u001b[49m\n\u001b[1;32m     35\u001b[0m \u001b[43m              \u001b[49m\u001b[43mlabels\u001b[49m\u001b[38;5;241;43m=\u001b[39;49m\u001b[43m{\u001b[49m\u001b[38;5;124;43m'\u001b[39;49m\u001b[38;5;124;43mdemand\u001b[39;49m\u001b[38;5;124;43m'\u001b[39;49m\u001b[43m:\u001b[49m\u001b[43m \u001b[49m\u001b[38;5;124;43m'\u001b[39;49m\u001b[38;5;124;43mDemand\u001b[39;49m\u001b[38;5;124;43m'\u001b[39;49m\u001b[43m,\u001b[49m\u001b[43m \u001b[49m\u001b[38;5;124;43m'\u001b[39;49m\u001b[38;5;124;43mdate\u001b[39;49m\u001b[38;5;124;43m'\u001b[39;49m\u001b[43m:\u001b[49m\u001b[43m \u001b[49m\u001b[38;5;124;43m'\u001b[39;49m\u001b[38;5;124;43mDate\u001b[39;49m\u001b[38;5;124;43m'\u001b[39;49m\u001b[43m}\u001b[49m\u001b[43m,\u001b[49m\n\u001b[1;32m     36\u001b[0m \u001b[43m              \u001b[49m\u001b[43mline_dash\u001b[49m\u001b[38;5;241;43m=\u001b[39;49m\u001b[38;5;124;43m'\u001b[39;49m\u001b[38;5;124;43mtype\u001b[39;49m\u001b[38;5;124;43m'\u001b[39;49m\u001b[43m)\u001b[49m\n\u001b[1;32m     38\u001b[0m \u001b[38;5;66;03m# Show plot\u001b[39;00m\n\u001b[1;32m     39\u001b[0m fig\u001b[38;5;241m.\u001b[39mshow()\n",
      "File \u001b[0;32m~/Documents/Django/DjangoApps/venv311/lib/python3.11/site-packages/plotly/express/_chart_types.py:264\u001b[0m, in \u001b[0;36mline\u001b[0;34m(data_frame, x, y, line_group, color, line_dash, symbol, hover_name, hover_data, custom_data, text, facet_row, facet_col, facet_col_wrap, facet_row_spacing, facet_col_spacing, error_x, error_x_minus, error_y, error_y_minus, animation_frame, animation_group, category_orders, labels, orientation, color_discrete_sequence, color_discrete_map, line_dash_sequence, line_dash_map, symbol_sequence, symbol_map, markers, log_x, log_y, range_x, range_y, line_shape, render_mode, title, template, width, height)\u001b[0m\n\u001b[1;32m    216\u001b[0m \u001b[38;5;28;01mdef\u001b[39;00m \u001b[38;5;21mline\u001b[39m(\n\u001b[1;32m    217\u001b[0m     data_frame\u001b[38;5;241m=\u001b[39m\u001b[38;5;28;01mNone\u001b[39;00m,\n\u001b[1;32m    218\u001b[0m     x\u001b[38;5;241m=\u001b[39m\u001b[38;5;28;01mNone\u001b[39;00m,\n\u001b[0;32m   (...)\u001b[0m\n\u001b[1;32m    258\u001b[0m     height\u001b[38;5;241m=\u001b[39m\u001b[38;5;28;01mNone\u001b[39;00m,\n\u001b[1;32m    259\u001b[0m ) \u001b[38;5;241m-\u001b[39m\u001b[38;5;241m>\u001b[39m go\u001b[38;5;241m.\u001b[39mFigure:\n\u001b[1;32m    260\u001b[0m \u001b[38;5;250m    \u001b[39m\u001b[38;5;124;03m\"\"\"\u001b[39;00m\n\u001b[1;32m    261\u001b[0m \u001b[38;5;124;03m    In a 2D line plot, each row of `data_frame` is represented as vertex of\u001b[39;00m\n\u001b[1;32m    262\u001b[0m \u001b[38;5;124;03m    a polyline mark in 2D space.\u001b[39;00m\n\u001b[1;32m    263\u001b[0m \u001b[38;5;124;03m    \"\"\"\u001b[39;00m\n\u001b[0;32m--> 264\u001b[0m     \u001b[38;5;28;01mreturn\u001b[39;00m \u001b[43mmake_figure\u001b[49m\u001b[43m(\u001b[49m\u001b[43margs\u001b[49m\u001b[38;5;241;43m=\u001b[39;49m\u001b[38;5;28;43mlocals\u001b[39;49m\u001b[43m(\u001b[49m\u001b[43m)\u001b[49m\u001b[43m,\u001b[49m\u001b[43m \u001b[49m\u001b[43mconstructor\u001b[49m\u001b[38;5;241;43m=\u001b[39;49m\u001b[43mgo\u001b[49m\u001b[38;5;241;43m.\u001b[39;49m\u001b[43mScatter\u001b[49m\u001b[43m)\u001b[49m\n",
      "File \u001b[0;32m~/Documents/Django/DjangoApps/venv311/lib/python3.11/site-packages/plotly/express/_core.py:2090\u001b[0m, in \u001b[0;36mmake_figure\u001b[0;34m(args, constructor, trace_patch, layout_patch)\u001b[0m\n\u001b[1;32m   2087\u001b[0m layout_patch \u001b[38;5;241m=\u001b[39m layout_patch \u001b[38;5;129;01mor\u001b[39;00m {}\n\u001b[1;32m   2088\u001b[0m apply_default_cascade(args)\n\u001b[0;32m-> 2090\u001b[0m args \u001b[38;5;241m=\u001b[39m \u001b[43mbuild_dataframe\u001b[49m\u001b[43m(\u001b[49m\u001b[43margs\u001b[49m\u001b[43m,\u001b[49m\u001b[43m \u001b[49m\u001b[43mconstructor\u001b[49m\u001b[43m)\u001b[49m\n\u001b[1;32m   2091\u001b[0m \u001b[38;5;28;01mif\u001b[39;00m constructor \u001b[38;5;129;01min\u001b[39;00m [go\u001b[38;5;241m.\u001b[39mTreemap, go\u001b[38;5;241m.\u001b[39mSunburst, go\u001b[38;5;241m.\u001b[39mIcicle] \u001b[38;5;129;01mand\u001b[39;00m args[\u001b[38;5;124m\"\u001b[39m\u001b[38;5;124mpath\u001b[39m\u001b[38;5;124m\"\u001b[39m] \u001b[38;5;129;01mis\u001b[39;00m \u001b[38;5;129;01mnot\u001b[39;00m \u001b[38;5;28;01mNone\u001b[39;00m:\n\u001b[1;32m   2092\u001b[0m     args \u001b[38;5;241m=\u001b[39m process_dataframe_hierarchy(args)\n",
      "File \u001b[0;32m~/Documents/Django/DjangoApps/venv311/lib/python3.11/site-packages/plotly/express/_core.py:1492\u001b[0m, in \u001b[0;36mbuild_dataframe\u001b[0;34m(args, constructor)\u001b[0m\n\u001b[1;32m   1489\u001b[0m     args[\u001b[38;5;124m\"\u001b[39m\u001b[38;5;124mcolor\u001b[39m\u001b[38;5;124m\"\u001b[39m] \u001b[38;5;241m=\u001b[39m \u001b[38;5;28;01mNone\u001b[39;00m\n\u001b[1;32m   1490\u001b[0m \u001b[38;5;66;03m# now that things have been prepped, we do the systematic rewriting of `args`\u001b[39;00m\n\u001b[0;32m-> 1492\u001b[0m df_output, wide_id_vars \u001b[38;5;241m=\u001b[39m \u001b[43mprocess_args_into_dataframe\u001b[49m\u001b[43m(\u001b[49m\n\u001b[1;32m   1493\u001b[0m \u001b[43m    \u001b[49m\u001b[43margs\u001b[49m\u001b[43m,\u001b[49m\u001b[43m \u001b[49m\u001b[43mwide_mode\u001b[49m\u001b[43m,\u001b[49m\u001b[43m \u001b[49m\u001b[43mvar_name\u001b[49m\u001b[43m,\u001b[49m\u001b[43m \u001b[49m\u001b[43mvalue_name\u001b[49m\n\u001b[1;32m   1494\u001b[0m \u001b[43m\u001b[49m\u001b[43m)\u001b[49m\n\u001b[1;32m   1496\u001b[0m \u001b[38;5;66;03m# now that `df_output` exists and `args` contains only references, we complete\u001b[39;00m\n\u001b[1;32m   1497\u001b[0m \u001b[38;5;66;03m# the special-case and wide-mode handling by further rewriting args and/or mutating\u001b[39;00m\n\u001b[1;32m   1498\u001b[0m \u001b[38;5;66;03m# df_output\u001b[39;00m\n\u001b[1;32m   1500\u001b[0m count_name \u001b[38;5;241m=\u001b[39m _escape_col_name(df_output, \u001b[38;5;124m\"\u001b[39m\u001b[38;5;124mcount\u001b[39m\u001b[38;5;124m\"\u001b[39m, [var_name, value_name])\n",
      "File \u001b[0;32m~/Documents/Django/DjangoApps/venv311/lib/python3.11/site-packages/plotly/express/_core.py:1213\u001b[0m, in \u001b[0;36mprocess_args_into_dataframe\u001b[0;34m(args, wide_mode, var_name, value_name)\u001b[0m\n\u001b[1;32m   1211\u001b[0m         \u001b[38;5;28;01mif\u001b[39;00m argument \u001b[38;5;241m==\u001b[39m \u001b[38;5;124m\"\u001b[39m\u001b[38;5;124mindex\u001b[39m\u001b[38;5;124m\"\u001b[39m:\n\u001b[1;32m   1212\u001b[0m             err_msg \u001b[38;5;241m+\u001b[39m\u001b[38;5;241m=\u001b[39m \u001b[38;5;124m\"\u001b[39m\u001b[38;5;130;01m\\n\u001b[39;00m\u001b[38;5;124m To use the index, pass it in directly as `df.index`.\u001b[39m\u001b[38;5;124m\"\u001b[39m\n\u001b[0;32m-> 1213\u001b[0m         \u001b[38;5;28;01mraise\u001b[39;00m \u001b[38;5;167;01mValueError\u001b[39;00m(err_msg)\n\u001b[1;32m   1214\u001b[0m \u001b[38;5;28;01melif\u001b[39;00m length \u001b[38;5;129;01mand\u001b[39;00m \u001b[38;5;28mlen\u001b[39m(df_input[argument]) \u001b[38;5;241m!=\u001b[39m length:\n\u001b[1;32m   1215\u001b[0m     \u001b[38;5;28;01mraise\u001b[39;00m \u001b[38;5;167;01mValueError\u001b[39;00m(\n\u001b[1;32m   1216\u001b[0m         \u001b[38;5;124m\"\u001b[39m\u001b[38;5;124mAll arguments should have the same length. \u001b[39m\u001b[38;5;124m\"\u001b[39m\n\u001b[1;32m   1217\u001b[0m         \u001b[38;5;124m\"\u001b[39m\u001b[38;5;124mThe length of column argument `df[\u001b[39m\u001b[38;5;132;01m%s\u001b[39;00m\u001b[38;5;124m]` is \u001b[39m\u001b[38;5;132;01m%d\u001b[39;00m\u001b[38;5;124m, whereas the \u001b[39m\u001b[38;5;124m\"\u001b[39m\n\u001b[0;32m   (...)\u001b[0m\n\u001b[1;32m   1224\u001b[0m         )\n\u001b[1;32m   1225\u001b[0m     )\n",
      "\u001b[0;31mValueError\u001b[0m: Value of 'x' is not the name of a column in 'data_frame'. Expected one of ['index', 'Demand', 'type', 'demand'] but received: date"
     ]
    }
   ],
   "source": [
    "import matplotlib.pyplot as plt\n",
    "from statsmodels.tsa.holtwinters import SimpleExpSmoothing\n",
    "from statsmodels.tsa.holtwinters import ExponentialSmoothing\n",
    "import plotly.graph_objs as go\n",
    "from sklearn.metrics import mean_absolute_error, mean_squared_error\n",
    "import plotly.express as px\n",
    "\n",
    "\n",
    "df = df.asfreq('D')\n",
    "\n",
    "\n",
    "# Apply Exponential Smoothing\n",
    "model = ExponentialSmoothing(df['Demand'], trend='add', seasonal='add', seasonal_periods=7)\n",
    "fit = model.fit(optimized=True)\n",
    "\n",
    "# Forecast for the historical period and the next 30 days\n",
    "historical_forecast = fit.fittedvalues\n",
    "future_forecast = fit.forecast(30)\n",
    "\n",
    "# Create a new DataFrame for the future forecast\n",
    "forecast_dates = pd.date_range(start=df.index[-1] + pd.Timedelta(days=1), periods=30, freq='D')\n",
    "forecast_df = pd.DataFrame({'demand': future_forecast}, index=forecast_dates)\n",
    "\n",
    "# Calculate errors\n",
    "mae = mean_absolute_error(df['Demand'], historical_forecast)\n",
    "mse = mean_squared_error(df['Demand'], historical_forecast)\n",
    "\n",
    "print(f'Mean Absolute Error: {mae}')\n",
    "print(f'Mean Squared Error: {mse}')\n",
    "\n",
    "# Combine historical and forecast data for plotting\n",
    "df['type'] = 'Actual'\n",
    "forecast_df['type'] = 'Forecast'\n",
    "combined_df = pd.concat([df, forecast_df])\n",
    "\n",
    "# Plot using Plotly Express\n",
    "fig = px.line(combined_df.reset_index(), x='date', y='demand', color='type', \n",
    "              title='Demand Forecasting using Triple Exponential Smoothing',\n",
    "              labels={'demand': 'Demand', 'date': 'Date'},\n",
    "              line_dash='type')\n",
    "\n",
    "# Show plot\n",
    "fig.show()\n"
   ]
  },
  {
   "cell_type": "code",
   "execution_count": 68,
   "metadata": {},
   "outputs": [],
   "source": [
    "split_idx = int(len(df) * train_test_split/100)"
   ]
  },
  {
   "cell_type": "code",
   "execution_count": 69,
   "metadata": {},
   "outputs": [
    {
     "data": {
      "text/plain": [
       "232"
      ]
     },
     "execution_count": 69,
     "metadata": {},
     "output_type": "execute_result"
    }
   ],
   "source": [
    "split_idx"
   ]
  },
  {
   "cell_type": "code",
   "execution_count": 70,
   "metadata": {},
   "outputs": [],
   "source": [
    "train, test = df[:split_idx], df[split_idx:]"
   ]
  },
  {
   "cell_type": "code",
   "execution_count": 71,
   "metadata": {},
   "outputs": [],
   "source": [
    "kpi_data = {}\n",
    "forecast_methods = {}"
   ]
  },
  {
   "cell_type": "code",
   "execution_count": 54,
   "metadata": {},
   "outputs": [],
   "source": []
  },
  {
   "cell_type": "code",
   "execution_count": 72,
   "metadata": {},
   "outputs": [],
   "source": [
    "try:\n",
    "    forecast_methods['Moving Average'] = test[demand_column].rolling(window=forecast_days).mean().iloc[forecast_days:]\n",
    "except Exception as e:\n",
    "    forecast_methods['Moving Average'] = None"
   ]
  },
  {
   "cell_type": "code",
   "execution_count": 73,
   "metadata": {},
   "outputs": [],
   "source": [
    "from statsmodels.tsa.holtwinters import ExponentialSmoothing"
   ]
  },
  {
   "cell_type": "code",
   "execution_count": 74,
   "metadata": {},
   "outputs": [
    {
     "name": "stderr",
     "output_type": "stream",
     "text": [
      "/Users/dibs/Documents/Django/DjangoApps/venv311/lib/python3.11/site-packages/statsmodels/tsa/base/tsa_model.py:473: ValueWarning: No frequency information was provided, so inferred frequency D will be used.\n",
      "  self._init_dates(dates, freq)\n"
     ]
    }
   ],
   "source": [
    "# Exponential Smoothing\n",
    "\n",
    "model = ExponentialSmoothing(train, seasonal='add', seasonal_periods=12)\n",
    "fit = model.fit()\n",
    "forecast_methods['Exponential Smoothing'] = fit.forecast(forecast_days)\n"
   ]
  },
  {
   "cell_type": "code",
   "execution_count": 75,
   "metadata": {},
   "outputs": [
    {
     "name": "stderr",
     "output_type": "stream",
     "text": [
      "/Users/dibs/Documents/Django/DjangoApps/venv311/lib/python3.11/site-packages/statsmodels/tsa/base/tsa_model.py:473: ValueWarning: No frequency information was provided, so inferred frequency D will be used.\n",
      "  self._init_dates(dates, freq)\n"
     ]
    }
   ],
   "source": [
    " # Double Exponential Smoothing\n",
    "try:\n",
    "    model = ExponentialSmoothing(train, trend='add')\n",
    "    fit = model.fit()\n",
    "    forecast_methods['Double Exponential Smoothing'] = fit.forecast(forecast_days)\n",
    "except Exception as e:\n",
    "    forecast_methods['Double Exponential Smoothing'] = None"
   ]
  },
  {
   "cell_type": "code",
   "execution_count": 76,
   "metadata": {},
   "outputs": [
    {
     "data": {
      "text/plain": [
       "{'Moving Average': Date\n",
       " 2023-09-20    22.700000\n",
       " 2023-09-21    23.100000\n",
       " 2023-09-22    23.200000\n",
       " 2023-09-23    23.033333\n",
       " 2023-09-24    21.933333\n",
       " 2023-09-25    22.466667\n",
       " 2023-09-26    26.600000\n",
       " 2023-09-27    30.733333\n",
       " 2023-09-28    30.366667\n",
       " 2023-09-29    29.366667\n",
       " 2023-09-30    30.633333\n",
       " 2023-10-01    30.933333\n",
       " 2023-10-02    31.866667\n",
       " 2023-10-03    32.366667\n",
       " 2023-10-04    33.433333\n",
       " 2023-10-05    33.866667\n",
       " 2023-10-06    35.133333\n",
       " 2023-10-07    33.966667\n",
       " 2023-10-08    34.433333\n",
       " 2023-10-09    35.400000\n",
       " 2023-10-10    36.266667\n",
       " 2023-10-11    36.500000\n",
       " 2023-10-12    36.633333\n",
       " 2023-10-13    37.100000\n",
       " 2023-10-14    40.700000\n",
       " 2023-10-15    44.433333\n",
       " 2023-10-16    43.433333\n",
       " 2023-10-17    44.000000\n",
       " Name: Demand, dtype: float64,\n",
       " 'Exponential Smoothing': 2023-08-21    69.051934\n",
       " 2023-08-22    47.599742\n",
       " 2023-08-23    64.153913\n",
       " 2023-08-24    33.169424\n",
       " 2023-08-25    28.079473\n",
       " 2023-08-26    36.361962\n",
       " 2023-08-27    28.225703\n",
       " 2023-08-28    29.831182\n",
       " 2023-08-29    33.875784\n",
       " 2023-08-30    51.483466\n",
       " 2023-08-31    41.355919\n",
       " 2023-09-01    34.140574\n",
       " 2023-09-02    69.051934\n",
       " 2023-09-03    47.599742\n",
       " 2023-09-04    64.153913\n",
       " 2023-09-05    33.169424\n",
       " 2023-09-06    28.079473\n",
       " 2023-09-07    36.361962\n",
       " 2023-09-08    28.225703\n",
       " 2023-09-09    29.831182\n",
       " 2023-09-10    33.875784\n",
       " 2023-09-11    51.483466\n",
       " 2023-09-12    41.355919\n",
       " 2023-09-13    34.140574\n",
       " 2023-09-14    69.051934\n",
       " 2023-09-15    47.599742\n",
       " 2023-09-16    64.153913\n",
       " 2023-09-17    33.169424\n",
       " 2023-09-18    28.079473\n",
       " 2023-09-19    36.361962\n",
       " Freq: D, dtype: float64,\n",
       " 'Double Exponential Smoothing': 2023-08-21    44.824962\n",
       " 2023-08-22    44.923470\n",
       " 2023-08-23    45.021977\n",
       " 2023-08-24    45.120485\n",
       " 2023-08-25    45.218992\n",
       " 2023-08-26    45.317500\n",
       " 2023-08-27    45.416007\n",
       " 2023-08-28    45.514515\n",
       " 2023-08-29    45.613022\n",
       " 2023-08-30    45.711530\n",
       " 2023-08-31    45.810037\n",
       " 2023-09-01    45.908545\n",
       " 2023-09-02    46.007052\n",
       " 2023-09-03    46.105560\n",
       " 2023-09-04    46.204067\n",
       " 2023-09-05    46.302575\n",
       " 2023-09-06    46.401082\n",
       " 2023-09-07    46.499590\n",
       " 2023-09-08    46.598097\n",
       " 2023-09-09    46.696605\n",
       " 2023-09-10    46.795112\n",
       " 2023-09-11    46.893619\n",
       " 2023-09-12    46.992127\n",
       " 2023-09-13    47.090634\n",
       " 2023-09-14    47.189142\n",
       " 2023-09-15    47.287649\n",
       " 2023-09-16    47.386157\n",
       " 2023-09-17    47.484664\n",
       " 2023-09-18    47.583172\n",
       " 2023-09-19    47.681679\n",
       " Freq: D, dtype: float64}"
      ]
     },
     "execution_count": 76,
     "metadata": {},
     "output_type": "execute_result"
    }
   ],
   "source": [
    "forecast_methods"
   ]
  },
  {
   "cell_type": "code",
   "execution_count": 77,
   "metadata": {},
   "outputs": [
    {
     "name": "stderr",
     "output_type": "stream",
     "text": [
      "/Users/dibs/Documents/Django/DjangoApps/venv311/lib/python3.11/site-packages/statsmodels/tsa/base/tsa_model.py:473: ValueWarning: No frequency information was provided, so inferred frequency D will be used.\n",
      "  self._init_dates(dates, freq)\n"
     ]
    }
   ],
   "source": [
    "model = ExponentialSmoothing(train, trend='add', seasonal='add', seasonal_periods=12)\n",
    "fit = model.fit()\n",
    "forecast_methods['Triple Exponential Smoothing'] = fit.forecast(forecast_days)"
   ]
  },
  {
   "cell_type": "code",
   "execution_count": 78,
   "metadata": {},
   "outputs": [
    {
     "name": "stderr",
     "output_type": "stream",
     "text": [
      "/Users/dibs/Documents/Django/DjangoApps/venv311/lib/python3.11/site-packages/statsmodels/tsa/base/tsa_model.py:473: ValueWarning: No frequency information was provided, so inferred frequency D will be used.\n",
      "  self._init_dates(dates, freq)\n"
     ]
    }
   ],
   "source": [
    "model = ExponentialSmoothing(train, trend='add', seasonal='mul', seasonal_periods=12)\n",
    "fit = model.fit()\n",
    "forecast_methods['Triple Additive Exponential Smoothing'] = fit.forecast(forecast_days)"
   ]
  },
  {
   "cell_type": "code",
   "execution_count": 80,
   "metadata": {},
   "outputs": [],
   "source": [
    "from sklearn.ensemble import AdaBoostRegressor"
   ]
  },
  {
   "cell_type": "code",
   "execution_count": 81,
   "metadata": {},
   "outputs": [],
   "source": [
    "model = AdaBoostRegressor()\n",
    "model.fit(train.index.factorize()[0].reshape(-1, 1), train.values.ravel())\n",
    "forecast_methods['Adaptive Boosting'] = model.predict(pd.Series(test.index.factorize()[0]).iloc[:forecast_days].values.reshape(-1, 1))\n"
   ]
  },
  {
   "cell_type": "code",
   "execution_count": 82,
   "metadata": {},
   "outputs": [
    {
     "data": {
      "text/plain": [
       "{'Moving Average': Date\n",
       " 2023-09-20    22.700000\n",
       " 2023-09-21    23.100000\n",
       " 2023-09-22    23.200000\n",
       " 2023-09-23    23.033333\n",
       " 2023-09-24    21.933333\n",
       " 2023-09-25    22.466667\n",
       " 2023-09-26    26.600000\n",
       " 2023-09-27    30.733333\n",
       " 2023-09-28    30.366667\n",
       " 2023-09-29    29.366667\n",
       " 2023-09-30    30.633333\n",
       " 2023-10-01    30.933333\n",
       " 2023-10-02    31.866667\n",
       " 2023-10-03    32.366667\n",
       " 2023-10-04    33.433333\n",
       " 2023-10-05    33.866667\n",
       " 2023-10-06    35.133333\n",
       " 2023-10-07    33.966667\n",
       " 2023-10-08    34.433333\n",
       " 2023-10-09    35.400000\n",
       " 2023-10-10    36.266667\n",
       " 2023-10-11    36.500000\n",
       " 2023-10-12    36.633333\n",
       " 2023-10-13    37.100000\n",
       " 2023-10-14    40.700000\n",
       " 2023-10-15    44.433333\n",
       " 2023-10-16    43.433333\n",
       " 2023-10-17    44.000000\n",
       " Name: Demand, dtype: float64,\n",
       " 'Exponential Smoothing': 2023-08-21    69.051934\n",
       " 2023-08-22    47.599742\n",
       " 2023-08-23    64.153913\n",
       " 2023-08-24    33.169424\n",
       " 2023-08-25    28.079473\n",
       " 2023-08-26    36.361962\n",
       " 2023-08-27    28.225703\n",
       " 2023-08-28    29.831182\n",
       " 2023-08-29    33.875784\n",
       " 2023-08-30    51.483466\n",
       " 2023-08-31    41.355919\n",
       " 2023-09-01    34.140574\n",
       " 2023-09-02    69.051934\n",
       " 2023-09-03    47.599742\n",
       " 2023-09-04    64.153913\n",
       " 2023-09-05    33.169424\n",
       " 2023-09-06    28.079473\n",
       " 2023-09-07    36.361962\n",
       " 2023-09-08    28.225703\n",
       " 2023-09-09    29.831182\n",
       " 2023-09-10    33.875784\n",
       " 2023-09-11    51.483466\n",
       " 2023-09-12    41.355919\n",
       " 2023-09-13    34.140574\n",
       " 2023-09-14    69.051934\n",
       " 2023-09-15    47.599742\n",
       " 2023-09-16    64.153913\n",
       " 2023-09-17    33.169424\n",
       " 2023-09-18    28.079473\n",
       " 2023-09-19    36.361962\n",
       " Freq: D, dtype: float64,\n",
       " 'Double Exponential Smoothing': 2023-08-21    44.824962\n",
       " 2023-08-22    44.923470\n",
       " 2023-08-23    45.021977\n",
       " 2023-08-24    45.120485\n",
       " 2023-08-25    45.218992\n",
       " 2023-08-26    45.317500\n",
       " 2023-08-27    45.416007\n",
       " 2023-08-28    45.514515\n",
       " 2023-08-29    45.613022\n",
       " 2023-08-30    45.711530\n",
       " 2023-08-31    45.810037\n",
       " 2023-09-01    45.908545\n",
       " 2023-09-02    46.007052\n",
       " 2023-09-03    46.105560\n",
       " 2023-09-04    46.204067\n",
       " 2023-09-05    46.302575\n",
       " 2023-09-06    46.401082\n",
       " 2023-09-07    46.499590\n",
       " 2023-09-08    46.598097\n",
       " 2023-09-09    46.696605\n",
       " 2023-09-10    46.795112\n",
       " 2023-09-11    46.893619\n",
       " 2023-09-12    46.992127\n",
       " 2023-09-13    47.090634\n",
       " 2023-09-14    47.189142\n",
       " 2023-09-15    47.287649\n",
       " 2023-09-16    47.386157\n",
       " 2023-09-17    47.484664\n",
       " 2023-09-18    47.583172\n",
       " 2023-09-19    47.681679\n",
       " Freq: D, dtype: float64,\n",
       " 'Triple Exponential Smoothing': 2023-08-21    71.032961\n",
       " 2023-08-22    53.543037\n",
       " 2023-08-23    65.524444\n",
       " 2023-08-24    37.744986\n",
       " 2023-08-25    33.697608\n",
       " 2023-08-26    41.746954\n",
       " 2023-08-27    33.681244\n",
       " 2023-08-28    36.195657\n",
       " 2023-08-29    39.963676\n",
       " 2023-08-30    55.549613\n",
       " 2023-08-31    47.597095\n",
       " 2023-09-01    41.135851\n",
       " 2023-09-02    72.849708\n",
       " 2023-09-03    55.359784\n",
       " 2023-09-04    67.341191\n",
       " 2023-09-05    39.561733\n",
       " 2023-09-06    35.514355\n",
       " 2023-09-07    43.563701\n",
       " 2023-09-08    35.497991\n",
       " 2023-09-09    38.012405\n",
       " 2023-09-10    41.780423\n",
       " 2023-09-11    57.366360\n",
       " 2023-09-12    49.413842\n",
       " 2023-09-13    42.952599\n",
       " 2023-09-14    74.666456\n",
       " 2023-09-15    57.176531\n",
       " 2023-09-16    69.157938\n",
       " 2023-09-17    41.378480\n",
       " 2023-09-18    37.331102\n",
       " 2023-09-19    45.380449\n",
       " Freq: D, dtype: float64,\n",
       " 'Triple Additive Exponential Smoothing': 2023-08-21    63.141688\n",
       " 2023-08-22    58.288347\n",
       " 2023-08-23    56.706451\n",
       " 2023-08-24    32.932606\n",
       " 2023-08-25    32.708170\n",
       " 2023-08-26    38.315398\n",
       " 2023-08-27    25.347047\n",
       " 2023-08-28    38.190788\n",
       " 2023-08-29    34.857877\n",
       " 2023-08-30    43.212287\n",
       " 2023-08-31    47.151714\n",
       " 2023-09-01    41.021312\n",
       " 2023-09-02    63.444568\n",
       " 2023-09-03    58.567835\n",
       " 2023-09-04    56.978245\n",
       " 2023-09-05    33.090389\n",
       " 2023-09-06    32.864815\n",
       " 2023-09-07    38.498824\n",
       " 2023-09-08    25.468342\n",
       " 2023-09-09    38.373472\n",
       " 2023-09-10    35.024552\n",
       " 2023-09-11    43.418827\n",
       " 2023-09-12    47.376992\n",
       " 2023-09-13    41.217223\n",
       " 2023-09-14    63.747448\n",
       " 2023-09-15    58.847323\n",
       " 2023-09-16    57.250039\n",
       " 2023-09-17    33.248172\n",
       " 2023-09-18    33.021460\n",
       " 2023-09-19    38.682250\n",
       " Freq: D, dtype: float64,\n",
       " 'Adaptive Boosting': array([36.15517241, 36.15517241, 36.15517241, 36.15517241, 36.15517241,\n",
       "        36.15517241, 36.15517241, 36.15517241, 36.15517241, 36.15517241,\n",
       "        36.15517241, 36.15517241, 36.15517241, 36.15517241, 36.15517241,\n",
       "        36.15517241, 36.15517241, 36.15517241, 36.15517241, 36.15517241,\n",
       "        36.15517241, 36.15517241, 36.15517241, 36.15517241, 36.15517241,\n",
       "        36.15517241, 36.15517241, 36.15517241, 36.15517241, 36.15517241])}"
      ]
     },
     "execution_count": 82,
     "metadata": {},
     "output_type": "execute_result"
    }
   ],
   "source": [
    "forecast_methods"
   ]
  },
  {
   "cell_type": "code",
   "execution_count": 84,
   "metadata": {},
   "outputs": [],
   "source": [
    "model = AdaBoostRegressor()\n",
    "model.fit(train.index.factorize()[0].reshape(-1, 1), train.values.ravel())\n",
    "forecast_methods['Adaptive Boosting'] = model.predict(pd.Series(test.index.factorize()[0]).iloc[:forecast_days].values.reshape(-1, 1))"
   ]
  },
  {
   "cell_type": "code",
   "execution_count": 85,
   "metadata": {},
   "outputs": [
    {
     "data": {
      "text/plain": [
       "array([45.84615385, 45.84615385, 45.84615385, 45.84615385, 45.84615385,\n",
       "       45.84615385, 45.84615385, 45.84615385, 45.84615385, 45.84615385,\n",
       "       44.26666667, 44.26666667, 44.26666667, 44.26666667, 44.26666667,\n",
       "       45.66666667, 45.66666667, 45.66666667, 45.66666667, 45.66666667,\n",
       "       45.66666667, 45.66666667, 45.66666667, 45.66666667, 45.66666667,\n",
       "       28.03125   , 28.03125   , 28.03125   , 28.03125   , 28.03125   ])"
      ]
     },
     "execution_count": 85,
     "metadata": {},
     "output_type": "execute_result"
    }
   ],
   "source": [
    "forecast_methods['Adaptive Boosting']"
   ]
  },
  {
   "cell_type": "code",
   "execution_count": 87,
   "metadata": {},
   "outputs": [],
   "source": [
    "from xgboost import XGBRegressor"
   ]
  },
  {
   "cell_type": "code",
   "execution_count": 88,
   "metadata": {},
   "outputs": [],
   "source": [
    "model = XGBRegressor()\n",
    "model.fit(train.index.factorize()[0].reshape(-1, 1), train.values.ravel())\n",
    "forecast_methods['Extreme Gradient Boosting'] = model.predict(pd.Series(test.index.factorize()[0]).iloc[:forecast_days].values.reshape(-1, 1))"
   ]
  },
  {
   "cell_type": "code",
   "execution_count": 89,
   "metadata": {},
   "outputs": [
    {
     "data": {
      "text/plain": [
       "array([20.933443 , 27.594698 , 20.100788 , 43.63753  , 50.4996   ,\n",
       "       20.380152 , 46.98264  , 49.851997 , 79.833595 , 34.130085 ,\n",
       "       15.5580635, 17.439993 , 27.648874 , 49.132812 , 12.196057 ,\n",
       "       32.5641   , 27.557455 , 85.859505 , 12.884094 , 26.009483 ,\n",
       "       26.009483 , 20.941645 , 39.360054 , 14.207999 , 40.30644  ,\n",
       "       27.83219  , 16.09493  , 16.394932 , 10.231154 , 17.905123 ],\n",
       "      dtype=float32)"
      ]
     },
     "execution_count": 89,
     "metadata": {},
     "output_type": "execute_result"
    }
   ],
   "source": [
    "forecast_methods['Extreme Gradient Boosting']"
   ]
  },
  {
   "cell_type": "code",
   "execution_count": 91,
   "metadata": {},
   "outputs": [],
   "source": [
    "from keras.models import Sequential\n",
    "from keras.layers import Dense, LSTM"
   ]
  },
  {
   "cell_type": "code",
   "execution_count": 92,
   "metadata": {},
   "outputs": [
    {
     "ename": "KeyError",
     "evalue": "3",
     "output_type": "error",
     "traceback": [
      "\u001b[0;31m---------------------------------------------------------------------------\u001b[0m",
      "\u001b[0;31mKeyError\u001b[0m                                  Traceback (most recent call last)",
      "File \u001b[0;32m~/Documents/Django/DjangoApps/venv311/lib/python3.11/site-packages/pandas/core/indexes/base.py:3805\u001b[0m, in \u001b[0;36mIndex.get_loc\u001b[0;34m(self, key)\u001b[0m\n\u001b[1;32m   3804\u001b[0m \u001b[38;5;28;01mtry\u001b[39;00m:\n\u001b[0;32m-> 3805\u001b[0m     \u001b[38;5;28;01mreturn\u001b[39;00m \u001b[38;5;28;43mself\u001b[39;49m\u001b[38;5;241;43m.\u001b[39;49m\u001b[43m_engine\u001b[49m\u001b[38;5;241;43m.\u001b[39;49m\u001b[43mget_loc\u001b[49m\u001b[43m(\u001b[49m\u001b[43mcasted_key\u001b[49m\u001b[43m)\u001b[49m\n\u001b[1;32m   3806\u001b[0m \u001b[38;5;28;01mexcept\u001b[39;00m \u001b[38;5;167;01mKeyError\u001b[39;00m \u001b[38;5;28;01mas\u001b[39;00m err:\n",
      "File \u001b[0;32mindex.pyx:167\u001b[0m, in \u001b[0;36mpandas._libs.index.IndexEngine.get_loc\u001b[0;34m()\u001b[0m\n",
      "File \u001b[0;32mindex.pyx:196\u001b[0m, in \u001b[0;36mpandas._libs.index.IndexEngine.get_loc\u001b[0;34m()\u001b[0m\n",
      "File \u001b[0;32mpandas/_libs/hashtable_class_helper.pxi:7081\u001b[0m, in \u001b[0;36mpandas._libs.hashtable.PyObjectHashTable.get_item\u001b[0;34m()\u001b[0m\n",
      "File \u001b[0;32mpandas/_libs/hashtable_class_helper.pxi:7089\u001b[0m, in \u001b[0;36mpandas._libs.hashtable.PyObjectHashTable.get_item\u001b[0;34m()\u001b[0m\n",
      "\u001b[0;31mKeyError\u001b[0m: 3",
      "\nThe above exception was the direct cause of the following exception:\n",
      "\u001b[0;31mKeyError\u001b[0m                                  Traceback (most recent call last)",
      "Cell \u001b[0;32mIn[92], line 5\u001b[0m\n\u001b[1;32m      3\u001b[0m \u001b[38;5;28;01mfor\u001b[39;00m i \u001b[38;5;129;01min\u001b[39;00m \u001b[38;5;28mrange\u001b[39m(\u001b[38;5;241m3\u001b[39m, \u001b[38;5;28mlen\u001b[39m(train_scaled)):\n\u001b[1;32m      4\u001b[0m     X_train\u001b[38;5;241m.\u001b[39mappend(train_scaled[i\u001b[38;5;241m-\u001b[39m\u001b[38;5;241m3\u001b[39m:i]\u001b[38;5;241m.\u001b[39mvalues)\n\u001b[0;32m----> 5\u001b[0m     y_train\u001b[38;5;241m.\u001b[39mappend(\u001b[43mtrain_scaled\u001b[49m\u001b[43m[\u001b[49m\u001b[43mi\u001b[49m\u001b[43m]\u001b[49m\u001b[38;5;241m.\u001b[39mvalues)\n\u001b[1;32m      6\u001b[0m X_train, y_train \u001b[38;5;241m=\u001b[39m np\u001b[38;5;241m.\u001b[39marray(X_train), np\u001b[38;5;241m.\u001b[39marray(y_train)\n\u001b[1;32m      8\u001b[0m model \u001b[38;5;241m=\u001b[39m Sequential()\n",
      "File \u001b[0;32m~/Documents/Django/DjangoApps/venv311/lib/python3.11/site-packages/pandas/core/frame.py:4102\u001b[0m, in \u001b[0;36mDataFrame.__getitem__\u001b[0;34m(self, key)\u001b[0m\n\u001b[1;32m   4100\u001b[0m \u001b[38;5;28;01mif\u001b[39;00m \u001b[38;5;28mself\u001b[39m\u001b[38;5;241m.\u001b[39mcolumns\u001b[38;5;241m.\u001b[39mnlevels \u001b[38;5;241m>\u001b[39m \u001b[38;5;241m1\u001b[39m:\n\u001b[1;32m   4101\u001b[0m     \u001b[38;5;28;01mreturn\u001b[39;00m \u001b[38;5;28mself\u001b[39m\u001b[38;5;241m.\u001b[39m_getitem_multilevel(key)\n\u001b[0;32m-> 4102\u001b[0m indexer \u001b[38;5;241m=\u001b[39m \u001b[38;5;28;43mself\u001b[39;49m\u001b[38;5;241;43m.\u001b[39;49m\u001b[43mcolumns\u001b[49m\u001b[38;5;241;43m.\u001b[39;49m\u001b[43mget_loc\u001b[49m\u001b[43m(\u001b[49m\u001b[43mkey\u001b[49m\u001b[43m)\u001b[49m\n\u001b[1;32m   4103\u001b[0m \u001b[38;5;28;01mif\u001b[39;00m is_integer(indexer):\n\u001b[1;32m   4104\u001b[0m     indexer \u001b[38;5;241m=\u001b[39m [indexer]\n",
      "File \u001b[0;32m~/Documents/Django/DjangoApps/venv311/lib/python3.11/site-packages/pandas/core/indexes/base.py:3812\u001b[0m, in \u001b[0;36mIndex.get_loc\u001b[0;34m(self, key)\u001b[0m\n\u001b[1;32m   3807\u001b[0m     \u001b[38;5;28;01mif\u001b[39;00m \u001b[38;5;28misinstance\u001b[39m(casted_key, \u001b[38;5;28mslice\u001b[39m) \u001b[38;5;129;01mor\u001b[39;00m (\n\u001b[1;32m   3808\u001b[0m         \u001b[38;5;28misinstance\u001b[39m(casted_key, abc\u001b[38;5;241m.\u001b[39mIterable)\n\u001b[1;32m   3809\u001b[0m         \u001b[38;5;129;01mand\u001b[39;00m \u001b[38;5;28many\u001b[39m(\u001b[38;5;28misinstance\u001b[39m(x, \u001b[38;5;28mslice\u001b[39m) \u001b[38;5;28;01mfor\u001b[39;00m x \u001b[38;5;129;01min\u001b[39;00m casted_key)\n\u001b[1;32m   3810\u001b[0m     ):\n\u001b[1;32m   3811\u001b[0m         \u001b[38;5;28;01mraise\u001b[39;00m InvalidIndexError(key)\n\u001b[0;32m-> 3812\u001b[0m     \u001b[38;5;28;01mraise\u001b[39;00m \u001b[38;5;167;01mKeyError\u001b[39;00m(key) \u001b[38;5;28;01mfrom\u001b[39;00m \u001b[38;5;21;01merr\u001b[39;00m\n\u001b[1;32m   3813\u001b[0m \u001b[38;5;28;01mexcept\u001b[39;00m \u001b[38;5;167;01mTypeError\u001b[39;00m:\n\u001b[1;32m   3814\u001b[0m     \u001b[38;5;66;03m# If we have a listlike key, _check_indexing_error will raise\u001b[39;00m\n\u001b[1;32m   3815\u001b[0m     \u001b[38;5;66;03m#  InvalidIndexError. Otherwise we fall through and re-raise\u001b[39;00m\n\u001b[1;32m   3816\u001b[0m     \u001b[38;5;66;03m#  the TypeError.\u001b[39;00m\n\u001b[1;32m   3817\u001b[0m     \u001b[38;5;28mself\u001b[39m\u001b[38;5;241m.\u001b[39m_check_indexing_error(key)\n",
      "\u001b[0;31mKeyError\u001b[0m: 3"
     ]
    }
   ],
   "source": [
    "train_scaled = (train - train.mean()) / train.std()\n",
    "X_train, y_train = [], []\n",
    "for i in range(3, len(train_scaled)):\n",
    "    X_train.append(train_scaled[i-3:i].values)\n",
    "    y_train.append(train_scaled[i].values)\n",
    "X_train, y_train = np.array(X_train), np.array(y_train)\n",
    "\n",
    "model = Sequential()\n",
    "model.add(LSTM(50, return_sequences=True, input_shape=(X_train.shape[1], 1)))\n",
    "model.add(LSTM(50, return_sequences=False))\n",
    "model.add(Dense(1))\n",
    "model.compile(optimizer='adam', loss='mean_squared_error')\n",
    "model.fit(X_train, y_train, epochs=20, batch_size=1, verbose=0)\n",
    "\n",
    "inputs = train_scaled[len(train_scaled) - len(test) - 3:].values\n",
    "X_test = []\n",
    "for i in range(3, len(inputs)):\n",
    "    X_test.append(inputs[i-3:i, 0])\n",
    "X_test = np.array(X_test)\n",
    "X_test = np.reshape(X_test, (X_test.shape[0], X_test.shape[1], 1))\n",
    "\n",
    "predictions = model.predict(X_test)\n",
    "predictions = predictions * train.std() + train.mean()\n",
    "forecast_methods['LSTM'] = predictions[:forecast_days]"
   ]
  },
  {
   "cell_type": "code",
   "execution_count": 95,
   "metadata": {},
   "outputs": [],
   "source": [
    "import plotly.express as px"
   ]
  },
  {
   "cell_type": "code",
   "execution_count": 96,
   "metadata": {},
   "outputs": [],
   "source": [
    "for method, forecast in forecast_methods.items():\n",
    "    if forecast is not None:\n",
    "        forecast = pd.Series(forecast, index=pd.date_range(start=train.index[-1], periods=forecast_days + 1, inclusive='right'))\n",
    "        error = round((forecast - test[demand_column]).mean(), 2)\n",
    "        mape = round(((forecast - test[demand_column]).abs() / test[demand_column]).mean() * 100, 2)\n",
    "        mae = round((forecast - test[demand_column]).abs().mean(), 2)\n",
    "        rmse = round(((forecast - test[demand_column]) ** 2).mean() ** 0.5, 2)\n",
    "        kpi_data[method] = {'error': error, 'mape': mape, 'mae': mae, 'rmse': rmse}\n",
    "\n",
    "        fig = px.line(df, x=df.index, y=demand_column, title=f'{method} Demand Forecast')\n",
    "        fig.add_scatter(x=forecast.index, y=forecast.values, mode='lines', name='Forecast')\n",
    "        kpi_data[method]['plot'] = fig.to_html(full_html=False)\n",
    "    else:\n",
    "        kpi_data[method] = {'error': 'N/A', 'mape': 'N/A', 'mae': 'N/A', 'rmse': 'N/A', 'plot': None}\n"
   ]
  },
  {
   "cell_type": "code",
   "execution_count": 101,
   "metadata": {},
   "outputs": [
    {
     "ename": "ValueError",
     "evalue": "Length of values (28) does not match length of index (27)",
     "output_type": "error",
     "traceback": [
      "\u001b[0;31m---------------------------------------------------------------------------\u001b[0m",
      "\u001b[0;31mValueError\u001b[0m                                Traceback (most recent call last)",
      "Cell \u001b[0;32mIn[101], line 7\u001b[0m\n\u001b[1;32m      5\u001b[0m forecast_index \u001b[38;5;241m=\u001b[39m pd\u001b[38;5;241m.\u001b[39mdate_range(start\u001b[38;5;241m=\u001b[39mtest\u001b[38;5;241m.\u001b[39mindex[\u001b[38;5;241m-\u001b[39m\u001b[38;5;241m1\u001b[39m], periods\u001b[38;5;241m=\u001b[39mforecast_length \u001b[38;5;241m+\u001b[39m \u001b[38;5;241m1\u001b[39m, inclusive\u001b[38;5;241m=\u001b[39m\u001b[38;5;124m'\u001b[39m\u001b[38;5;124mright\u001b[39m\u001b[38;5;124m'\u001b[39m)[\u001b[38;5;241m1\u001b[39m:]\n\u001b[1;32m      6\u001b[0m forecast_series \u001b[38;5;241m=\u001b[39m pd\u001b[38;5;241m.\u001b[39mSeries(forecast[:forecast_length], index\u001b[38;5;241m=\u001b[39mforecast_index)\n\u001b[0;32m----> 7\u001b[0m extended_test \u001b[38;5;241m=\u001b[39m pd\u001b[38;5;241m.\u001b[39mconcat([test[demand_column], \u001b[43mpd\u001b[49m\u001b[38;5;241;43m.\u001b[39;49m\u001b[43mSeries\u001b[49m\u001b[43m(\u001b[49m\u001b[43m[\u001b[49m\u001b[38;5;28;43;01mNone\u001b[39;49;00m\u001b[43m]\u001b[49m\u001b[43m \u001b[49m\u001b[38;5;241;43m*\u001b[39;49m\u001b[43m \u001b[49m\u001b[43mforecast_length\u001b[49m\u001b[43m,\u001b[49m\u001b[43m \u001b[49m\u001b[43mindex\u001b[49m\u001b[38;5;241;43m=\u001b[39;49m\u001b[43mforecast_index\u001b[49m\u001b[43m)\u001b[49m])\n\u001b[1;32m      9\u001b[0m error \u001b[38;5;241m=\u001b[39m \u001b[38;5;28mround\u001b[39m((forecast_series \u001b[38;5;241m-\u001b[39m extended_test)\u001b[38;5;241m.\u001b[39mmean(), \u001b[38;5;241m2\u001b[39m)\n\u001b[1;32m     10\u001b[0m mape \u001b[38;5;241m=\u001b[39m \u001b[38;5;28mround\u001b[39m(((forecast_series \u001b[38;5;241m-\u001b[39m extended_test)\u001b[38;5;241m.\u001b[39mabs() \u001b[38;5;241m/\u001b[39m extended_test)\u001b[38;5;241m.\u001b[39mmean() \u001b[38;5;241m*\u001b[39m \u001b[38;5;241m100\u001b[39m, \u001b[38;5;241m2\u001b[39m)\n",
      "File \u001b[0;32m~/Documents/Django/DjangoApps/venv311/lib/python3.11/site-packages/pandas/core/series.py:575\u001b[0m, in \u001b[0;36mSeries.__init__\u001b[0;34m(self, data, index, dtype, name, copy, fastpath)\u001b[0m\n\u001b[1;32m    573\u001b[0m     index \u001b[38;5;241m=\u001b[39m default_index(\u001b[38;5;28mlen\u001b[39m(data))\n\u001b[1;32m    574\u001b[0m \u001b[38;5;28;01melif\u001b[39;00m is_list_like(data):\n\u001b[0;32m--> 575\u001b[0m     \u001b[43mcom\u001b[49m\u001b[38;5;241;43m.\u001b[39;49m\u001b[43mrequire_length_match\u001b[49m\u001b[43m(\u001b[49m\u001b[43mdata\u001b[49m\u001b[43m,\u001b[49m\u001b[43m \u001b[49m\u001b[43mindex\u001b[49m\u001b[43m)\u001b[49m\n\u001b[1;32m    577\u001b[0m \u001b[38;5;66;03m# create/copy the manager\u001b[39;00m\n\u001b[1;32m    578\u001b[0m \u001b[38;5;28;01mif\u001b[39;00m \u001b[38;5;28misinstance\u001b[39m(data, (SingleBlockManager, SingleArrayManager)):\n",
      "File \u001b[0;32m~/Documents/Django/DjangoApps/venv311/lib/python3.11/site-packages/pandas/core/common.py:573\u001b[0m, in \u001b[0;36mrequire_length_match\u001b[0;34m(data, index)\u001b[0m\n\u001b[1;32m    569\u001b[0m \u001b[38;5;250m\u001b[39m\u001b[38;5;124;03m\"\"\"\u001b[39;00m\n\u001b[1;32m    570\u001b[0m \u001b[38;5;124;03mCheck the length of data matches the length of the index.\u001b[39;00m\n\u001b[1;32m    571\u001b[0m \u001b[38;5;124;03m\"\"\"\u001b[39;00m\n\u001b[1;32m    572\u001b[0m \u001b[38;5;28;01mif\u001b[39;00m \u001b[38;5;28mlen\u001b[39m(data) \u001b[38;5;241m!=\u001b[39m \u001b[38;5;28mlen\u001b[39m(index):\n\u001b[0;32m--> 573\u001b[0m     \u001b[38;5;28;01mraise\u001b[39;00m \u001b[38;5;167;01mValueError\u001b[39;00m(\n\u001b[1;32m    574\u001b[0m         \u001b[38;5;124m\"\u001b[39m\u001b[38;5;124mLength of values \u001b[39m\u001b[38;5;124m\"\u001b[39m\n\u001b[1;32m    575\u001b[0m         \u001b[38;5;124mf\u001b[39m\u001b[38;5;124m\"\u001b[39m\u001b[38;5;124m(\u001b[39m\u001b[38;5;132;01m{\u001b[39;00m\u001b[38;5;28mlen\u001b[39m(data)\u001b[38;5;132;01m}\u001b[39;00m\u001b[38;5;124m) \u001b[39m\u001b[38;5;124m\"\u001b[39m\n\u001b[1;32m    576\u001b[0m         \u001b[38;5;124m\"\u001b[39m\u001b[38;5;124mdoes not match length of index \u001b[39m\u001b[38;5;124m\"\u001b[39m\n\u001b[1;32m    577\u001b[0m         \u001b[38;5;124mf\u001b[39m\u001b[38;5;124m\"\u001b[39m\u001b[38;5;124m(\u001b[39m\u001b[38;5;132;01m{\u001b[39;00m\u001b[38;5;28mlen\u001b[39m(index)\u001b[38;5;132;01m}\u001b[39;00m\u001b[38;5;124m)\u001b[39m\u001b[38;5;124m\"\u001b[39m\n\u001b[1;32m    578\u001b[0m     )\n",
      "\u001b[0;31mValueError\u001b[0m: Length of values (28) does not match length of index (27)"
     ]
    }
   ],
   "source": [
    "for method, forecast in forecast_methods.items():\n",
    "    if forecast is not None:\n",
    "        # Ensure the forecast length matches the forecast index length\n",
    "        forecast_length = min(len(forecast), forecast_days)\n",
    "        forecast_index = pd.date_range(start=test.index[-1], periods=forecast_length + 1, inclusive='right')[1:]\n",
    "        forecast_series = pd.Series(forecast[:forecast_length], index=forecast_index)\n",
    "        extended_test = pd.concat([test[demand_column], pd.Series([None] * forecast_length, index=forecast_index)])\n",
    "\n",
    "        error = round((forecast_series - extended_test).mean(), 2)\n",
    "        mape = round(((forecast_series - extended_test).abs() / extended_test).mean() * 100, 2)\n",
    "        mae = round((forecast_series - extended_test).abs().mean(), 2)\n",
    "        rmse = round(((forecast_series - extended_test) ** 2).mean() ** 0.5, 2)\n",
    "        \n",
    "        kpi_data[method] = {'error': error, 'mape': mape, 'mae': mae, 'rmse': rmse}\n",
    "\n",
    "        fig = px.line(df, x=df.index, y=demand_column, title=f'{method} Demand Forecast')\n",
    "        fig.add_scatter(x=forecast_series.index, y=forecast_series.values, mode='lines', name='Forecast')\n",
    "        kpi_data[method]['plot'] = fig.to_html(full_html=False)\n",
    "    else:\n",
    "        kpi_data[method] = {'error': 'N/A', 'mape': 'N/A', 'mae': 'N/A', 'rmse': 'N/A', 'plot': None}\n"
   ]
  },
  {
   "cell_type": "code",
   "execution_count": null,
   "metadata": {},
   "outputs": [],
   "source": []
  }
 ],
 "metadata": {
  "kernelspec": {
   "display_name": "venv311",
   "language": "python",
   "name": "python3"
  },
  "language_info": {
   "codemirror_mode": {
    "name": "ipython",
    "version": 3
   },
   "file_extension": ".py",
   "mimetype": "text/x-python",
   "name": "python",
   "nbconvert_exporter": "python",
   "pygments_lexer": "ipython3",
   "version": "3.11.9"
  }
 },
 "nbformat": 4,
 "nbformat_minor": 2
}
